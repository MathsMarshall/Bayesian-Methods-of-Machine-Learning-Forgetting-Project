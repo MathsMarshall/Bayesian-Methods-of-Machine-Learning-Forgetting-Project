{
 "cells": [
  {
   "cell_type": "code",
   "execution_count": 117,
   "metadata": {
    "id": "EEEIddm0tfcR"
   },
   "outputs": [
    {
     "name": "stdout",
     "output_type": "stream",
     "text": [
      "The autoreload extension is already loaded. To reload it, use:\n",
      "  %reload_ext autoreload\n"
     ]
    }
   ],
   "source": [
    "%load_ext autoreload\n",
    "%autoreload 2\n",
    "\n",
    "import torch\n",
    "import torch.nn as nn\n",
    "import torch.nn.functional as F\n",
    "import torch.optim as optim\n",
    "from torchvision import datasets, transforms\n",
    "from torch.optim.lr_scheduler import StepLR\n",
    "from tqdm import tqdm_notebook as tqdm\n",
    "import numpy as np\n",
    "from scipy.special import softmax\n",
    "from copy import copy\n",
    "from matplotlib import pyplot as plt\n",
    "import pandas as pd\n",
    "from sklearn.metrics import r2_score\n",
    "from scipy import stats\n",
    "import scipy\n",
    "from sklearn.manifold import TSNE\n",
    "from sklearn.decomposition import PCA\n",
    "\n",
    "from utils import *\n",
    "from dataloader import *\n",
    "#from ssf.models import *\n",
    "#from dataloader import *\n",
    "from torch.optim import SGD\n",
    "\n",
    "params = {\n",
    "    'lr': 5e-3,\n",
    "    'batch_size': 512,\n",
    "    'epoches': 30,\n",
    "}\n",
    "\n",
    "use_cuda = True\n",
    "torch.manual_seed(42)\n",
    "\n",
    "if use_cuda:\n",
    "    \n",
    "    device = torch.device(\"cuda\")\n",
    "else:\n",
    "    device = torch.device(\"cpu\")\n",
    "\n",
    "train_kwargs = {'batch_size': params['batch_size']}\n",
    "test_kwargs = {'batch_size': params['batch_size']}"
   ]
  },
  {
   "cell_type": "code",
   "execution_count": 70,
   "metadata": {
    "id": "17YkSfjqBTdU"
   },
   "outputs": [],
   "source": [
    "class Net(nn.Module):\n",
    "    def __init__(self):\n",
    "        super(Net, self).__init__()\n",
    "        self.conv1 = nn.Conv2d(1, 32, 3, 1)\n",
    "        self.conv2 = nn.Conv2d(32, 64, 3, 1)\n",
    "        self.dropout1 = nn.Dropout(0.25)\n",
    "        self.dropout2 = nn.Dropout(0.5)\n",
    "        self.fc1 = nn.Linear(9216, 128)\n",
    "        self.fc2 = nn.Linear(128, 10)\n",
    "\n",
    "    def get_latent(self, x):\n",
    "        x = self.conv1(x)\n",
    "        x = F.relu(x)\n",
    "        x = self.conv2(x)\n",
    "        x = F.relu(x)\n",
    "        x = F.max_pool2d(x, 2)\n",
    "        #x = self.dropout1(x)\n",
    "        x = torch.flatten(x, 1)\n",
    "        x = self.fc1(x)\n",
    "\n",
    "        return x\n",
    "\n",
    "    def forward(self, x):\n",
    "        x = self.get_latent(x)\n",
    "        x = self.fc2(x)\n",
    "        output = F.log_softmax(x, dim=1)\n",
    "        return output\n",
    "\n",
    "\n",
    "def train(model, device, train_loader, optimizer, epoch):\n",
    "    model.train()\n",
    "    losses = []\n",
    "    pbr = tqdm((train_loader))\n",
    "    for data, target, batch_idx in pbr:\n",
    "        data, target = data.to(device), target.to(device)\n",
    "        optimizer.zero_grad()\n",
    "        output = model(data)\n",
    "        loss = F.nll_loss(output, target)\n",
    "        loss.backward()\n",
    "        optimizer.step()\n",
    "\n",
    "        losses.append(loss.item())\n",
    "        pbr.set_description(f'Loss {loss.item()}')\n",
    "\n",
    "\n",
    "def test(model, device, test_loader):\n",
    "    model.eval()\n",
    "    test_loss = 0\n",
    "    correct = 0\n",
    "    with torch.no_grad():\n",
    "        for data, target, idx in test_loader:\n",
    "            data, target = data.to(device), target.to(device)\n",
    "            output = model(data)\n",
    "            test_loss += F.nll_loss(output, target, reduction='sum').item()  # sum up batch loss\n",
    "            pred = output.argmax(dim=1, keepdim=True)  # get the index of the max log-probability\n",
    "            correct += pred.eq(target.view_as(pred)).sum().item()\n",
    "\n",
    "    test_loss /= len(test_loader.dataset)\n",
    "    \n",
    "    return test_loss\n",
    "\n",
    "def measure(model, device, train_loader, metric_ls, metric_lb):\n",
    "    model.eval()\n",
    "\n",
    "    latent = np.zeros( (len(train_loader.dataset), 128) )\n",
    "    prob = np.zeros( (len(train_loader.dataset), 10) )\n",
    "    labels = np.zeros( (len(train_loader.dataset)) )\n",
    "    \n",
    "    with torch.no_grad():\n",
    "        #latents = []\n",
    "        #probs = []\n",
    "        #labels = []\n",
    "        for data, target, idx in tqdm(train_loader):\n",
    "            data, target = data.to(device), target.to(device)\n",
    "            latent_batch = model.get_latent(data)\n",
    "            probs_batch = model(data)\n",
    "\n",
    "            idx = idx.detach().cpu().numpy()\n",
    "            latent[idx] = latent_batch.cpu().numpy()\n",
    "            prob[idx] = probs_batch.cpu().numpy()\n",
    "            labels[idx] = (target.cpu().numpy())\n",
    "            \n",
    "            #latents.append(latent_batch.cpu().numpy())\n",
    "            #probs.append(probs_batch.cpu().numpy())\n",
    "            #labels.append(target.cpu().numpy())\n",
    "        \n",
    "        #latent = np.concatenate(latents, 0)\n",
    "        #prob = np.concatenate(probs, 0)\n",
    "        #labels = np.concatenate(labels, 0)\n",
    "        \n",
    "        metric_ls.add_epoch(latent)\n",
    "        metric_lb.add_epoch(prob)\n",
    "        metric_lb.add_labels(labels)\n",
    "\n",
    "def plot_loss(loss, label='test'):\n",
    "    plt.plot(loss)\n",
    "    plt.xlabel('Epoch')\n",
    "    plt.ylabel(f'{label} loss')\n",
    "    plt.grid()\n",
    "    plt.show()\n"
   ]
  },
  {
   "cell_type": "code",
   "execution_count": 5,
   "metadata": {
    "id": "8vp5nq8JoVHu"
   },
   "outputs": [],
   "source": [
    "class LatentMetric:\n",
    "  def __init__(self):\n",
    "    self.res_epoches = []\n",
    "\n",
    "  def add_epoch(self, latent):\n",
    "    self.res_epoches.append(latent)\n",
    "\n",
    "  def compute(self):\n",
    "    pass\n"
   ]
  },
  {
   "cell_type": "markdown",
   "metadata": {},
   "source": [
    "## Latent space metrics\n",
    "\n",
    "**Variance2**: $ \\sigma( \\|M_i - E[M_i]\\|_2 ) $\n",
    "\n",
    "**Mean abs shift**: $ E[  ] $"
   ]
  },
  {
   "cell_type": "code",
   "execution_count": 248,
   "metadata": {},
   "outputs": [],
   "source": [
    "class VarianceMetric(LatentMetric):\n",
    "  def __init__(self):\n",
    "    super().__init__()\n",
    "\n",
    "  def compute(self):\n",
    "    stds = np.std(self.res_epoches, 0)\n",
    "    stds = np.linalg.norm(stds, axis=-1)\n",
    "    return stds\n",
    "\n",
    "class VarianceMetric2(LatentMetric):\n",
    "    def __init__(self):\n",
    "        super().__init__()\n",
    "\n",
    "    def compute(self):\n",
    "        center = np.mean(self.res_epoches, 0)\n",
    "        dist = [np.linalg.norm(e-center, axis=-1) for e in self.res_epoches]\n",
    "        stds = np.std(dist, 0)\n",
    "        print(stds.shape)\n",
    "\n",
    "        return stds\n",
    "\n",
    "class MeanAbsShiftMetric(LatentMetric):\n",
    "  def __init__(self):\n",
    "    super().__init__()\n",
    "\n",
    "  def compute(self):\n",
    "    a = self.res_epoches[1:]\n",
    "    adiff = np.linalg.norm(np.array(a[1:])-np.array(a[:-1]), axis=-1)\n",
    "\n",
    "    return adiff.mean(0)\n",
    "\n",
    "class VarAbsShiftMetric(LatentMetric):\n",
    "  def __init__(self):\n",
    "    super().__init__()\n",
    "\n",
    "  def compute(self):\n",
    "    a = self.res_epoches[1:]\n",
    "    adiff = np.linalg.norm(np.array(a[1:])-np.array(a[:-1]), axis=-1)\n",
    "\n",
    "    return adiff.std(0)\n",
    "\n",
    "class JustDistanceMetric(LatentMetric):\n",
    "  def __init__(self):\n",
    "    super().__init__()\n",
    "\n",
    "  def compute(self):\n",
    "    center = np.mean(self.res_epoches, 2)\n",
    "    dist = [np.linalg.norm(e-center[i].reshape(-1,1), axis=-1) for i, e in enumerate(self.res_epoches)]\n",
    "    res = np.mean(dist, 0)\n",
    "    return res\n",
    "\n",
    "class VelocityMetric(LatentMetric):\n",
    "    def __init__(self):\n",
    "        super().__init__()\n",
    "\n",
    "    def compute(self):\n",
    "        a = self.res_epoches\n",
    "        adiff = np.linalg.norm(np.array(a[1:])-np.array(a[:-1]), axis=-1)\n",
    "        speed = 1/adiff\n",
    "        velocity = speed[1:]-speed[:-1]\n",
    "    \n",
    "        res = velocity.mean(0)\n",
    "        return res\n",
    "\n"
   ]
  },
  {
   "cell_type": "code",
   "execution_count": 240,
   "metadata": {
    "id": "pwnSV6CEe6zh"
   },
   "outputs": [],
   "source": [
    "class LabelMetric:\n",
    "  def __init__(self):\n",
    "    self.labels = None\n",
    "    self.probs_epoches = []\n",
    "\n",
    "  def add_epoch(self, probs_epoch):\n",
    "    self.probs_epoches.append(probs_epoch)\n",
    "\n",
    "  def add_labels(self, labels):\n",
    "    self.labels = labels\n",
    "\n",
    "  def compute(self):\n",
    "    pass\n",
    "\n",
    "class UncertantyMetric(LabelMetric):\n",
    "    def __init__(self):\n",
    "        super().__init__()\n",
    "    \n",
    "    def _unsertanty(self, probs, labels):\n",
    "        lab_hot = labels.reshape(-1,1)\n",
    "        probs = np.exp(probs)\n",
    "        return np.max(probs, axis=1)\n",
    "    \n",
    "    def compute(self):\n",
    "        unserts = [self._unsertanty(p, self.labels) for p in self.probs_epoches]\n",
    "        unsert_mean = 1.0 - np.mean( unserts, 0 )\n",
    "        return unsert_mean\n",
    "\n",
    "    def compute0(self):\n",
    "        unserts = [self._unsertanty(self.probs_epoches[-1], self.labels)]\n",
    "        unsert_mean = 1.0 - np.mean( unserts, 0 )\n",
    "        return unsert_mean\n",
    "\n",
    "class UEntropyMetric(LabelMetric):\n",
    "    def __init__(self):\n",
    "        super().__init__()\n",
    "    \n",
    "    def _entropy(self, log_probs, labels):\n",
    "        probs = np.exp(log_probs)\n",
    "        return np.sum(probs*log_probs, axis=1)\n",
    "    \n",
    "    def compute(self):\n",
    "        unserts = [self._entropy(p, self.labels) for p in [self.probs_epoches[-1]]]\n",
    "        unsert_mean = -np.mean( unserts, 0 )\n",
    "        return unsert_mean\n",
    "\n",
    "class ConfidenceMetric(LabelMetric):\n",
    "    def __init__(self):\n",
    "        super().__init__()\n",
    "    \n",
    "    def _unsertanty(self, probs, labels):\n",
    "        lab_hot = labels.reshape(-1,1)\n",
    "        probs = np.exp(probs)\n",
    "        return torch.gather(probs, lab_hot).reshape(-1) #np.max(probs, axis=1)\n",
    "\n",
    "    def _entropy(self, log_probs, labels):\n",
    "        probs = np.exp(log_probs)\n",
    "        return np.sum(probs*log_probs, axis=1)\n",
    "\n",
    "    def compute(self):\n",
    "        unserts = [self._entropy(p, self.labels) for p in self.probs_epoches]\n",
    "        unsert_mean = np.mean(unserts, 0)\n",
    "        return unsert_mean\n",
    "\n",
    "class VariabilityMetric(LabelMetric):\n",
    "    def __init__(self):\n",
    "        super().__init__()\n",
    "    \n",
    "    def _unsertanty(self, probs, labels):\n",
    "        lab_hot = labels.reshape(-1,1)\n",
    "        probs = np.exp(probs)\n",
    "        return torch.gather(probs, lab_hot).reshape(-1) \n",
    "\n",
    "    def _entropy(self, log_probs, labels):\n",
    "        probs = np.exp(log_probs)\n",
    "        return np.sum(probs*log_probs, axis=1)\n",
    "\n",
    "    def compute(self):\n",
    "        unserts = [self._entropy(p, self.labels) for p in self.probs_epoches]\n",
    "        unsert_mean = np.std(unserts, 0)\n",
    "        return unsert_mean\n",
    "        "
   ]
  },
  {
   "cell_type": "code",
   "execution_count": 155,
   "metadata": {},
   "outputs": [],
   "source": [
    "def compute_correlation( ref_obj1, ref_obj2, class1, class2 ):\n",
    "    \n",
    "    m1 = copy.copy(ref_obj1)\n",
    "    m1.__class__ = class1\n",
    "    res1 = m1.compute()\n",
    "    \n",
    "    m2 = copy(ref_obj2)\n",
    "    m2.__class__ = class2\n",
    "    res2 = m2.compute()\n",
    "    \n",
    "    return np.corrcoef(res1, res2)[0,1]\n",
    "\n",
    "def compute_r2( ref_obj1, ref_obj2, class1, class2 ):\n",
    "    \n",
    "    m1 = copy.copy(ref_obj1)\n",
    "    m1.__class__ = class1\n",
    "    res1 = m1.compute()\n",
    "    \n",
    "    m2 = copy(ref_obj2)\n",
    "    m2.__class__ = class2\n",
    "    res2 = m2.compute()\n",
    "\n",
    "    res1 = (res1-res1.mean())/res1.std()\n",
    "    res2 = (res2-res2.mean())/res2.std()\n",
    "    \n",
    "    #return r2_score(res1, res2)\n",
    "    slope, intercept, r_value, p_value, std_err = scipy.stats.linregress(res1, res2)\n",
    "\n",
    "    return r_value\n",
    "\n",
    "def compute_spr( ref_obj1, ref_obj2, class1, class2 ):\n",
    "    \n",
    "    m1 = copy.copy(ref_obj1)\n",
    "    m1.__class__ = class1\n",
    "    res1 = m1.compute()\n",
    "    \n",
    "    m2 = copy.copy(ref_obj2)\n",
    "    m2.__class__ = class2\n",
    "    res2 = m2.compute()\n",
    "    \n",
    "    return stats.spearmanr(res1, res2).statistic\n",
    "\n",
    "def corr_with_arr(ref_obj1, class1, res2):\n",
    "    m1 = copy.copy(ref_obj1)\n",
    "    m1.__class__ = class1\n",
    "    res1 = m1.compute()\n",
    "\n",
    "    return np.corrcoef(res1, res2)[0,1]\n",
    "\n",
    "def get_metr_values(ref_obj1, class1):\n",
    "    m1 = copy.copy(ref_obj1)\n",
    "    m1.__class__ = class1\n",
    "    res1 = m1.compute()\n",
    "    return res1"
   ]
  },
  {
   "cell_type": "code",
   "execution_count": null,
   "metadata": {},
   "outputs": [],
   "source": []
  },
  {
   "cell_type": "code",
   "execution_count": 9,
   "metadata": {},
   "outputs": [],
   "source": [
    "def get_highest(scores, k = 15):\n",
    "    return np.argsort(scores)[-k:]\n",
    "\n",
    "def get_lowest(scores, k = 15):\n",
    "    return np.argsort(scores)[:k]\n",
    "\n",
    "def plot_images(dataset: torch.utils.data.Dataset, indices: np.ndarray) -> None:\n",
    "    fig = plt.figure(figsize=(len(indices)*3, 3))\n",
    "    for i, idx in enumerate(indices):\n",
    "        img = dataset.data[idx]\n",
    "        if img.shape[0] == 3:\n",
    "            img = img.transpose((1, 2, 0))\n",
    "        ax = fig.add_subplot(1, len(indices), i+1)\n",
    "        ax.axis('off')\n",
    "        ax.imshow(img)\n",
    "\n",
    "    plt.show()\n",
    "\n",
    "def plot_lh( ds, scores, name ):\n",
    "    hs = get_highest(scores)\n",
    "    lw = get_lowest(scores)\n",
    "    print(f'Highest score by {name}')\n",
    "    plot_images(ds, hs)\n",
    "    print(f'Lowest score by {name}')\n",
    "    plot_images(ds, lw)\n",
    "\n",
    "def plot_lh_obj( ds, ref_obj, cls, name ):\n",
    "    m = copy(ref_obj)\n",
    "    m.__class__ = cls\n",
    "    res = m.compute()\n",
    "\n",
    "    plot_lh(ds, res, name)"
   ]
  },
  {
   "cell_type": "code",
   "execution_count": 10,
   "metadata": {
    "id": "5BZD3Yu6thh7"
   },
   "outputs": [],
   "source": [
    "if use_cuda:\n",
    "    cuda_kwargs = {'num_workers': 1,\n",
    "                    'pin_memory': True,\n",
    "                    'shuffle': False}\n",
    "    train_kwargs.update(cuda_kwargs)\n",
    "    test_kwargs.update(cuda_kwargs)\n",
    "else:\n",
    "    cpu_kwargs = {'shuffle': False}\n",
    "    train_kwargs.update(cpu_kwargs)\n",
    "    test_kwargs.update(cpu_kwargs)\n",
    "\n",
    "\n",
    "transform=transforms.Compose([\n",
    "    transforms.ToTensor(),\n",
    "    transforms.Normalize((0.1307,), (0.3081,))\n",
    "    ])\n",
    "dataset1 = datasets.MNIST('../data', train=True, download=True,\n",
    "                    transform=transform)\n",
    "dataset2 = datasets.MNIST('../data', train=False,\n",
    "                    transform=transform)\n",
    "train_loader = torch.utils.data.DataLoader(dataset1,**train_kwargs)\n",
    "test_loader = torch.utils.data.DataLoader(dataset2, **test_kwargs)"
   ]
  },
  {
   "cell_type": "code",
   "execution_count": null,
   "metadata": {},
   "outputs": [],
   "source": []
  },
  {
   "cell_type": "markdown",
   "metadata": {},
   "source": [
    "## Second split forgetting"
   ]
  },
  {
   "cell_type": "code",
   "execution_count": 12,
   "metadata": {},
   "outputs": [],
   "source": [
    "model = Net().to(device)\n",
    "\n",
    "loss_fn = torch.nn.CrossEntropyLoss(label_smoothing=0)\n",
    "\n",
    "#The name of the first and second split datasets. Keep these same\n",
    "dataset1 = \"mnist\"\n",
    "dataset2 = \"mnist\"\n",
    "\n",
    "\n",
    "#Training parameters for first and second split training\n",
    "weight_decay = 5e-4\n",
    "peak_lr_pre = 0.1\n",
    "peak_lr_ft = 0.1\n",
    "batch_size = 512\n",
    "\n",
    "#Label Noise Ratio in first and second split\n",
    "label_noise_ratio_pre = 0.0\n",
    "label_noise_ratio_ft = 0.0\n",
    "\n",
    "#Model type and learning schedule\n",
    "model_type = \"resnet9\" \n",
    "schedule = \"triangle\" \n",
    "seed = 0\n",
    "\n",
    "#Extra Parameters, not needed\n",
    "minority_1 = 0\n",
    "minority_2 = 0\n",
    "\n",
    "all_args = {\"dataset1\":dataset1, \"dataset2\":dataset2, \"wd\":weight_decay, \"lr1\":peak_lr_pre, \"lr2\":peak_lr_ft, \n",
    "            \"noise_1\":label_noise_ratio_pre, \"noise_2\":label_noise_ratio_ft, \"model\":model_type, \"schedule\":schedule,\n",
    "            \"minority_1\":minority_1, \"minority_2\":minority_2, \"seed\":seed, \"batch_size\":batch_size, \"log_factor\":0,\"seed_superclass\":0}\n",
    "\n",
    "\n"
   ]
  },
  {
   "cell_type": "code",
   "execution_count": 17,
   "metadata": {},
   "outputs": [
    {
     "name": "stdout",
     "output_type": "stream",
     "text": [
      "dict_keys(['train_loader', 'test_loader', 'noise_mask', 'rare_mask', 'train_dataset'])\n"
     ]
    },
    {
     "name": "stderr",
     "output_type": "stream",
     "text": [
      "C:\\Users\\razvor\\Documents\\DS\\Skoltech\\Bayessian_project\\dataloader.py:260: UserWarning: To copy construct from a tensor, it is recommended to use sourceTensor.clone().detach() or sourceTensor.clone().detach().requires_grad_(True), rather than torch.tensor(sourceTensor).\n",
      "  try:\n"
     ]
    }
   ],
   "source": [
    "#Dictionary containing first and second split data loaders, noise mask and other data-dependent quantities\n",
    "pre_dict, ft_dict = return_loaders(all_args)\n",
    "print(pre_dict.keys())\n",
    "preloader = pre_dict[\"train_loader\"]\n",
    "ftloader = ft_dict[\"train_loader\"]"
   ]
  },
  {
   "cell_type": "code",
   "execution_count": 19,
   "metadata": {},
   "outputs": [
    {
     "name": "stdout",
     "output_type": "stream",
     "text": [
      "Epoch: 1 | Eval Loader Accuracy: 80.8367%\n",
      "Epoch: 2 | Eval Loader Accuracy: 89.5133%\n",
      "Epoch: 3 | Eval Loader Accuracy: 91.7633%\n",
      "Epoch: 4 | Eval Loader Accuracy: 93.5700%\n",
      "Epoch: 5 | Eval Loader Accuracy: 96.6767%\n",
      "Epoch: 5 | Accuracy: 94.8667% | Loss: 3.47e-04\n",
      "Epoch: 6 | Eval Loader Accuracy: 97.6367%\n",
      "Epoch: 7 | Eval Loader Accuracy: 98.3067%\n",
      "Epoch: 8 | Eval Loader Accuracy: 97.9800%\n",
      "Epoch: 9 | Eval Loader Accuracy: 98.3933%\n",
      "Epoch: 10 | Eval Loader Accuracy: 98.7100%\n",
      "Epoch: 10 | Accuracy: 98.2933% | Loss: 1.05e-04\n",
      "Epoch: 11 | Eval Loader Accuracy: 98.1400%\n",
      "Epoch: 12 | Eval Loader Accuracy: 99.0533%\n",
      "Epoch: 13 | Eval Loader Accuracy: 99.2433%\n",
      "Epoch: 14 | Eval Loader Accuracy: 99.4700%\n",
      "Epoch: 15 | Eval Loader Accuracy: 99.6333%\n",
      "Epoch: 15 | Accuracy: 99.3233% | Loss: 4.35e-05\n",
      "Epoch: 16 | Eval Loader Accuracy: 99.5200%\n",
      "Epoch: 17 | Eval Loader Accuracy: 99.7500%\n",
      "Epoch: 18 | Eval Loader Accuracy: 99.8000%\n",
      "Epoch: 19 | Eval Loader Accuracy: 99.6667%\n",
      "Epoch: 20 | Eval Loader Accuracy: 99.7900%\n",
      "Epoch: 20 | Accuracy: 99.7567% | Loss: 2.12e-05\n",
      "Epoch: 21 | Eval Loader Accuracy: 99.6767%\n",
      "Epoch: 22 | Eval Loader Accuracy: 99.9500%\n",
      "Epoch: 23 | Eval Loader Accuracy: 99.9133%\n",
      "Epoch: 24 | Eval Loader Accuracy: 99.8600%\n",
      "Epoch: 25 | Eval Loader Accuracy: 99.9133%\n",
      "Epoch: 25 | Accuracy: 99.7000% | Loss: 2.07e-05\n",
      "Epoch: 26 | Eval Loader Accuracy: 99.9167%\n",
      "Epoch: 27 | Eval Loader Accuracy: 99.9500%\n",
      "Epoch: 28 | Eval Loader Accuracy: 99.9833%\n",
      "Epoch: 29 | Eval Loader Accuracy: 99.9233%\n",
      "Epoch: 30 | Eval Loader Accuracy: 99.9900%\n",
      "Epoch: 30 | Accuracy: 99.9667% | Loss: 7.74e-06\n",
      "Epoch: 31 | Eval Loader Accuracy: 99.9667%\n",
      "Epoch: 32 | Eval Loader Accuracy: 100.0000%\n",
      "Epoch: 33 | Eval Loader Accuracy: 99.9700%\n",
      "Epoch: 34 | Eval Loader Accuracy: 99.9967%\n",
      "Epoch: 35 | Eval Loader Accuracy: 99.9967%\n",
      "Epoch: 35 | Accuracy: 99.9700% | Loss: 7.10e-06\n",
      "Epoch: 36 | Eval Loader Accuracy: 99.9467%\n",
      "Epoch: 37 | Eval Loader Accuracy: 100.0000%\n",
      "Epoch: 38 | Eval Loader Accuracy: 99.9967%\n",
      "Epoch: 39 | Eval Loader Accuracy: 100.0000%\n",
      "Epoch: 40 | Eval Loader Accuracy: 99.9933%\n",
      "Epoch: 40 | Accuracy: 99.9933% | Loss: 5.32e-06\n",
      "Epoch: 41 | Eval Loader Accuracy: 99.9933%\n",
      "Epoch: 42 | Eval Loader Accuracy: 99.9967%\n",
      "Epoch: 43 | Eval Loader Accuracy: 100.0000%\n",
      "Epoch: 44 | Eval Loader Accuracy: 99.9867%\n",
      "Epoch: 45 | Eval Loader Accuracy: 100.0000%\n",
      "Epoch: 45 | Accuracy: 99.9800% | Loss: 5.96e-06\n",
      "Epoch: 46 | Eval Loader Accuracy: 99.9933%\n",
      "Epoch: 47 | Eval Loader Accuracy: 99.9933%\n",
      "Epoch: 48 | Eval Loader Accuracy: 99.9700%\n",
      "Epoch: 49 | Eval Loader Accuracy: 100.0000%\n",
      "Epoch: 50 | Eval Loader Accuracy: 99.9967%\n",
      "Epoch: 50 | Accuracy: 99.9900% | Loss: 6.07e-06\n",
      "Epoch: 51 | Eval Loader Accuracy: 100.0000%\n",
      "Epoch: 52 | Eval Loader Accuracy: 100.0000%\n",
      "Epoch: 53 | Eval Loader Accuracy: 100.0000%\n",
      "Epoch: 54 | Eval Loader Accuracy: 99.9967%\n",
      "Epoch: 55 | Eval Loader Accuracy: 100.0000%\n",
      "Epoch: 55 | Accuracy: 100.0000% | Loss: 5.34e-06\n",
      "Epoch: 56 | Eval Loader Accuracy: 100.0000%\n",
      "Epoch: 57 | Eval Loader Accuracy: 100.0000%\n",
      "Epoch: 58 | Eval Loader Accuracy: 99.9967%\n",
      "Epoch: 59 | Eval Loader Accuracy: 100.0000%\n",
      "Epoch: 60 | Eval Loader Accuracy: 100.0000%\n",
      "Epoch: 60 | Accuracy: 99.9933% | Loss: 5.38e-06\n",
      "Epoch: 61 | Eval Loader Accuracy: 99.9967%\n",
      "Epoch: 61 | Accuracy: 100.0000% | Loss: 4.97e-06\n"
     ]
    },
    {
     "ename": "RuntimeError",
     "evalue": "Parent directory models/mnist does not exist.",
     "output_type": "error",
     "traceback": [
      "\u001b[1;31m---------------------------------------------------------------------------\u001b[0m",
      "\u001b[1;31mRuntimeError\u001b[0m                              Traceback (most recent call last)",
      "Cell \u001b[1;32mIn[19], line 7\u001b[0m\n\u001b[0;32m      3\u001b[0m scheduler, EPOCHS \u001b[38;5;241m=\u001b[39m get_scheduler_epochs(all_args[\u001b[38;5;124m\"\u001b[39m\u001b[38;5;124mschedule\u001b[39m\u001b[38;5;124m\"\u001b[39m], optimizer, preloader)\n\u001b[0;32m      5\u001b[0m ret_pre \u001b[38;5;241m=\u001b[39m train_ssf(model, preloader, optimizer, scheduler, loss_fn, EPOCHS \u001b[38;5;241m=\u001b[39m EPOCHS, eval_every \u001b[38;5;241m=\u001b[39m \u001b[38;5;28;01mTrue\u001b[39;00m, eval_loader\u001b[38;5;241m=\u001b[39m preloader)\n\u001b[1;32m----> 7\u001b[0m \u001b[43mtorch\u001b[49m\u001b[38;5;241;43m.\u001b[39;49m\u001b[43msave\u001b[49m\u001b[43m(\u001b[49m\u001b[43mmodel\u001b[49m\u001b[38;5;241;43m.\u001b[39;49m\u001b[43mstate_dict\u001b[49m\u001b[43m(\u001b[49m\u001b[43m)\u001b[49m\u001b[43m,\u001b[49m\u001b[43m \u001b[49m\u001b[38;5;124;43mf\u001b[39;49m\u001b[38;5;124;43m\"\u001b[39;49m\u001b[38;5;124;43mmodels/\u001b[39;49m\u001b[38;5;132;43;01m{\u001b[39;49;00m\u001b[43mall_args\u001b[49m\u001b[43m[\u001b[49m\u001b[38;5;124;43m'\u001b[39;49m\u001b[38;5;124;43mdataset1\u001b[39;49m\u001b[38;5;124;43m'\u001b[39;49m\u001b[43m]\u001b[49m\u001b[38;5;132;43;01m}\u001b[39;49;00m\u001b[38;5;124;43m/stage_1.pt\u001b[39;49m\u001b[38;5;124;43m\"\u001b[39;49m\u001b[43m)\u001b[49m\n\u001b[0;32m     10\u001b[0m \u001b[38;5;66;03m#Stage 2 Training\u001b[39;00m\n\u001b[0;32m     11\u001b[0m optimizer \u001b[38;5;241m=\u001b[39m SGD(model\u001b[38;5;241m.\u001b[39mparameters(), lr\u001b[38;5;241m=\u001b[39m\u001b[38;5;241m0.1\u001b[39m, momentum\u001b[38;5;241m=\u001b[39m\u001b[38;5;241m0.9\u001b[39m, weight_decay\u001b[38;5;241m=\u001b[39m\u001b[38;5;241m5e-4\u001b[39m)\n",
      "File \u001b[1;32m~\\anaconda3\\envs\\ML_2\\lib\\site-packages\\torch\\serialization.py:618\u001b[0m, in \u001b[0;36msave\u001b[1;34m(obj, f, pickle_module, pickle_protocol, _use_new_zipfile_serialization, _disable_byteorder_record)\u001b[0m\n\u001b[0;32m    615\u001b[0m _check_save_filelike(f)\n\u001b[0;32m    617\u001b[0m \u001b[38;5;28;01mif\u001b[39;00m _use_new_zipfile_serialization:\n\u001b[1;32m--> 618\u001b[0m     \u001b[38;5;28;01mwith\u001b[39;00m \u001b[43m_open_zipfile_writer\u001b[49m\u001b[43m(\u001b[49m\u001b[43mf\u001b[49m\u001b[43m)\u001b[49m \u001b[38;5;28;01mas\u001b[39;00m opened_zipfile:\n\u001b[0;32m    619\u001b[0m         _save(obj, opened_zipfile, pickle_module, pickle_protocol, _disable_byteorder_record)\n\u001b[0;32m    620\u001b[0m         \u001b[38;5;28;01mreturn\u001b[39;00m\n",
      "File \u001b[1;32m~\\anaconda3\\envs\\ML_2\\lib\\site-packages\\torch\\serialization.py:492\u001b[0m, in \u001b[0;36m_open_zipfile_writer\u001b[1;34m(name_or_buffer)\u001b[0m\n\u001b[0;32m    490\u001b[0m \u001b[38;5;28;01melse\u001b[39;00m:\n\u001b[0;32m    491\u001b[0m     container \u001b[38;5;241m=\u001b[39m _open_zipfile_writer_buffer\n\u001b[1;32m--> 492\u001b[0m \u001b[38;5;28;01mreturn\u001b[39;00m \u001b[43mcontainer\u001b[49m\u001b[43m(\u001b[49m\u001b[43mname_or_buffer\u001b[49m\u001b[43m)\u001b[49m\n",
      "File \u001b[1;32m~\\anaconda3\\envs\\ML_2\\lib\\site-packages\\torch\\serialization.py:463\u001b[0m, in \u001b[0;36m_open_zipfile_writer_file.__init__\u001b[1;34m(self, name)\u001b[0m\n\u001b[0;32m    461\u001b[0m     \u001b[38;5;28msuper\u001b[39m()\u001b[38;5;241m.\u001b[39m\u001b[38;5;21m__init__\u001b[39m(torch\u001b[38;5;241m.\u001b[39m_C\u001b[38;5;241m.\u001b[39mPyTorchFileWriter(\u001b[38;5;28mself\u001b[39m\u001b[38;5;241m.\u001b[39mfile_stream))\n\u001b[0;32m    462\u001b[0m \u001b[38;5;28;01melse\u001b[39;00m:\n\u001b[1;32m--> 463\u001b[0m     \u001b[38;5;28msuper\u001b[39m()\u001b[38;5;241m.\u001b[39m\u001b[38;5;21m__init__\u001b[39m(\u001b[43mtorch\u001b[49m\u001b[38;5;241;43m.\u001b[39;49m\u001b[43m_C\u001b[49m\u001b[38;5;241;43m.\u001b[39;49m\u001b[43mPyTorchFileWriter\u001b[49m\u001b[43m(\u001b[49m\u001b[38;5;28;43mself\u001b[39;49m\u001b[38;5;241;43m.\u001b[39;49m\u001b[43mname\u001b[49m\u001b[43m)\u001b[49m)\n",
      "\u001b[1;31mRuntimeError\u001b[0m: Parent directory models/mnist does not exist."
     ]
    }
   ],
   "source": [
    "\n",
    "#Stage 1 Training\n",
    "optimizer = SGD(model.parameters(), lr=0.1, momentum=0.9, weight_decay=5e-4)\n",
    "scheduler, EPOCHS = get_scheduler_epochs(all_args[\"schedule\"], optimizer, preloader)\n",
    "\n",
    "ret_pre = train_ssf(model, preloader, optimizer, scheduler, loss_fn, EPOCHS = EPOCHS, eval_every = True, eval_loader= preloader)\n",
    "\n",
    "#torch.save(model.state_dict(), f\"models/{all_args['dataset1']}/stage_1.pt\")\n",
    "\n",
    "\n",
    "#Stage 2 Training\n",
    "optimizer = SGD(model.parameters(), lr=0.1, momentum=0.9, weight_decay=5e-4)\n",
    "scheduler, EPOCHS = get_scheduler_epochs(all_args[\"schedule\"], optimizer, ftloader)\n",
    "\n",
    "\n",
    "ret_ft = train_ssf(model, ftloader, optimizer, scheduler, loss_fn, EPOCHS = EPOCHS, eval_every = True, eval_loader= preloader)\n",
    "\n",
    "#torch.save(model.state_dict(), f\"models/{all_args['dataset1']}/stage_2.pt\")"
   ]
  },
  {
   "cell_type": "code",
   "execution_count": 28,
   "metadata": {},
   "outputs": [
    {
     "data": {
      "text/plain": [
       "<matplotlib.collections.PathCollection at 0x1aa090c47f0>"
      ]
     },
     "execution_count": 28,
     "metadata": {},
     "output_type": "execute_result"
    },
    {
     "data": {
      "image/png": "[encoded data removed]",
      "text/plain": [
       "<Figure size 640x480 with 1 Axes>"
      ]
     },
     "metadata": {},
     "output_type": "display_data"
    }
   ],
   "source": [
    "masks_pre = ret_pre[\"acc_mask\"]\n",
    "masks_ft = ret_ft[\"acc_mask\"]\n",
    "noise_mask = pre_dict[\"noise_mask\"]\n",
    "\n",
    "learn_epochs = get_first_epoch_where_we_learn_forever(masks_pre)\n",
    "forget_epochs = get_first_epoch_where_we_forget_forever(masks_ft)\n",
    "learn = learn_epochs + np.random.uniform(-0.5, 0.5, size = learn_epochs.shape)\n",
    "forget = forget_epochs \n",
    "fg = forget_epochs.max()\n",
    "forget[forget_epochs!=fg] = forget[forget_epochs!=fg] + np.random.uniform(-0.4, 0.4, size = forget_epochs[forget_epochs!=fg].shape)\n",
    "plt.xlabel(\"Learning Time\")\n",
    "plt.ylabel(\"Second Split Forgetting Time\")\n",
    "\n",
    "plt.axhline(y=fg-0.5, color='r', linestyle='--')\n",
    "plt.scatter(learn, forget, s= 1.5, c = \"b\")"
   ]
  },
  {
   "cell_type": "code",
   "execution_count": 30,
   "metadata": {
    "scrolled": true
   },
   "outputs": [
    {
     "data": {
      "image/png": "[encoded data removed]",
      "text/plain": [
       "<Figure size 800x800 with 3 Axes>"
      ]
     },
     "metadata": {},
     "output_type": "display_data"
    }
   ],
   "source": [
    "import matplotlib.gridspec as gridspec\n",
    "\n",
    "x, y  = learn, forget\n",
    "fig = plt.figure(figsize=(8,8))\n",
    "gs = gridspec.GridSpec(5, 5)\n",
    "ax_main = plt.subplot(gs[1:, :4])\n",
    "ax_xDist = plt.subplot(gs[0, :4])#,sharex=ax_main)\n",
    "ax_yDist = plt.subplot(gs[1:, 4])#,sharey=ax_main)\n",
    "\n",
    "ax_main.scatter(x,y,marker='.',c='tab:blue',s=50)\n",
    "ax_main.set(xlabel=\"Learning Time\", ylabel=\"Second Split Forgetting Time\")\n",
    "ax_main.axhline(y=fg-0.5, color='tab:red', linestyle='--', c = 'tab:red')\n",
    "ax_xDist.hist(x,bins=61,color='tab:red',align='mid')\n",
    "ax_xDist.set(ylabel='#Examples')\n",
    "\n",
    "ax_yDist.hist(y,bins=61,color='tab:red', orientation='horizontal',align='mid')\n",
    "ax_yDist.set(xlabel='#Examples')\n",
    "\n",
    "ax_xDist.set_yscale('log')\n",
    "ax_yDist.set_xscale('log')\n",
    "ax_yDist.set_yticklabels([])\n",
    "ax_xDist.set_xticklabels([])\n",
    "\n",
    "\n",
    "#plt.savefig(\"plots/mnist_vis.svg\")\n",
    "plt.show()"
   ]
  },
  {
   "cell_type": "code",
   "execution_count": 31,
   "metadata": {},
   "outputs": [],
   "source": [
    "import pickle\n",
    "with open('mnist_final.pickle', 'wb') as handle:\n",
    "    pickle.dump([learn, forget], handle, protocol=pickle.HIGHEST_PROTOCOL)"
   ]
  },
  {
   "cell_type": "markdown",
   "metadata": {},
   "source": [
    "## Training for latent space"
   ]
  },
  {
   "cell_type": "code",
   "execution_count": 71,
   "metadata": {
    "colab": {
     "base_uri": "https://localhost:8080/",
     "height": 752,
     "referenced_widgets": [
      "5792e0690dff4bfd9e71f67d32855966",
      "e0720ae206474994a56936b221a63e5f",
      "b20b9ec0d0a5442a83f410d80c72a710",
      "60a3dddf169e4910a3ad840b491344d0",
      "bac67486131946b5810346a275d8befd",
      "58d201196ed042b2b33d9f2410eb0f8b",
      "21b88d88ac7d406292bd39ca72db1154",
      "c09764e79f204d5cb49944d554ebf695",
      "2dbf43333f7e418387d74fbc12e24254",
      "a6629cc259ba4243953b1488ca21ee64",
      "0bb3a271a2954f49b3051635fb04bd7d",
      "1e30545dd3c540f8a8a5c629a7add642",
      "fcd67485b1b045cb8e468e460cb4cda0",
      "2df7d0fe915a45769195b787cbf36ab1",
      "2becfdf29ede41eea15b9373e96e93d4",
      "f6d124ad99c24f12a791683752a4f20e",
      "c96e9b200e0c4999a72700fb2c6d9416",
      "c1fbe867f1d5417f971d8757a70d9fa7",
      "7be7ff335bb640d9ac1a2190404558f9",
      "757f85157c81483aae3a0f6d07962c09",
      "3aa5252edf954519b1d2ab44248b96e3",
      "60277db5c1c74beeb0ea152466495a11",
      "5e70443d87b947589726363c92650abf",
      "b3aa637b5a2e4c55bba3d569b3d19e77",
      "57b32943e5ab4678bb9b8af559f6c02e",
      "44be846a9d3746eb82fdd1c5270115b7",
      "0d34d5931e9a4c4eac2e6142ddd50cf4",
      "51a965c0f6444eb89f8d166139eb5815",
      "01b9e397aa2644fba9b88e7c14a3e84b",
      "1f1e7b971bf8421b8ddc31327f2a470f",
      "7aab86b18c4d48e2bc2e9e3fcda61655",
      "7f6f09d2329f4406afc31f7346d57166",
      "009d01a6d9214a5d9a84aa22d160edb1",
      "06126e9717f94d51bd6800b7f084be61",
      "dc1b403916b94d74b6bc64cfca533241",
      "1193faf6a29c454da4c736269273e3ad",
      "b25cc7e84f734fd692ddb7c1eeb1d58d",
      "079b21e9bdee4e4f88a9d9cff5d551ba",
      "2254dee3ba584c6bb0ea5727e939729a",
      "cf69e10fb57b4e72b01559fece72a41b",
      "93eff32a073147bf99ce91310fbd53b1",
      "890d58d4b11141abb5f24e65c1b5224d",
      "0df2bf8fea684d61b423e183ee375849",
      "9e3f172baa294543a8ab7e3a8d4909ec",
      "6389618629934fa797c0ce210e0abc94",
      "46f05deb9a7d473cb192658f83cedee9",
      "14fca413adf842a98e1caf1f24da96fb",
      "b0ceb54fa97e4c219ab1af0b662d6a70",
      "bf48ad05a10c4d9da482f620f17294d8",
      "50add5734bf04010bcc6f00edb14e16c",
      "a76c6aeb74d64c2b84eebb3f2ef583fc",
      "e606edcf62424d158477e2cf923ab84b",
      "67438b62694545f8a0c130ddd37193cb",
      "bdcb3ca3d7364d5cb0a308a78e2bcf9a",
      "e32ecbb812d04c2fb105f89fcbb3d593",
      "f45b24f6925f4846bf464c9ce18fd64d",
      "2a8e42e8025f41d6951a12e7e8b5ad74",
      "f221a42102174260aab4ad3dd736cff1",
      "09510631f1f741949e3b83c9b3ed604d",
      "e57902eb8b054a6db641cfe3e1eaad1f",
      "d41480828d6748efba3145332ab7c2aa",
      "65ed60395cf84f17bd35c821264b42a6",
      "3e844c9aad59485db1961adc586ed015",
      "7bdab1fe6ba448ea90089a14870348f7",
      "d45d72e4489941d78aa1cc92750f36b1",
      "1f5d17bcdb2f4b97bf20de802556e6bc"
     ]
    },
    "id": "DXNeCSOG1GYi",
    "outputId": "90278da9-e12f-49d3-aa12-5ff840e03123"
   },
   "outputs": [
    {
     "name": "stderr",
     "output_type": "stream",
     "text": [
      "C:\\Users\\razvor\\AppData\\Local\\Temp\\ipykernel_16552\\3577538483.py:10: TqdmDeprecationWarning: This function will be removed in tqdm==5.0.0\n",
      "Please use `tqdm.notebook.tqdm` instead of `tqdm.tqdm_notebook`\n",
      "  for epoch in tqdm(range(1, params['epoches'] + 1)):\n"
     ]
    },
    {
     "data": {
      "application/vnd.jupyter.widget-view+json": {
       "model_id": "b4e9f68790324433ae1d436fc5cdce21",
       "version_major": 2,
       "version_minor": 0
      },
      "text/plain": [
       "  0%|          | 0/30 [00:00<?, ?it/s]"
      ]
     },
     "metadata": {},
     "output_type": "display_data"
    },
    {
     "name": "stderr",
     "output_type": "stream",
     "text": [
      "C:\\Users\\razvor\\AppData\\Local\\Temp\\ipykernel_16552\\1936228384.py:33: TqdmDeprecationWarning: This function will be removed in tqdm==5.0.0\n",
      "Please use `tqdm.notebook.tqdm` instead of `tqdm.tqdm_notebook`\n",
      "  pbr = tqdm((train_loader))\n"
     ]
    },
    {
     "data": {
      "application/vnd.jupyter.widget-view+json": {
       "model_id": "46be157643f34bebbca836485e366c5b",
       "version_major": 2,
       "version_minor": 0
      },
      "text/plain": [
       "  0%|          | 0/59 [00:00<?, ?it/s]"
      ]
     },
     "metadata": {},
     "output_type": "display_data"
    },
    {
     "name": "stderr",
     "output_type": "stream",
     "text": [
      "C:\\Users\\razvor\\AppData\\Local\\Temp\\ipykernel_16552\\1936228384.py:73: TqdmDeprecationWarning: This function will be removed in tqdm==5.0.0\n",
      "Please use `tqdm.notebook.tqdm` instead of `tqdm.tqdm_notebook`\n",
      "  for data, target, idx in tqdm(train_loader):\n"
     ]
    },
    {
     "data": {
      "application/vnd.jupyter.widget-view+json": {
       "model_id": "cb931e389a9c498b9163a7d01ba6a30f",
       "version_major": 2,
       "version_minor": 0
      },
      "text/plain": [
       "  0%|          | 0/59 [00:00<?, ?it/s]"
      ]
     },
     "metadata": {},
     "output_type": "display_data"
    },
    {
     "data": {
      "application/vnd.jupyter.widget-view+json": {
       "model_id": "341c23fd2e554db696f5e19c623dfa2d",
       "version_major": 2,
       "version_minor": 0
      },
      "text/plain": [
       "  0%|          | 0/59 [00:00<?, ?it/s]"
      ]
     },
     "metadata": {},
     "output_type": "display_data"
    },
    {
     "data": {
      "application/vnd.jupyter.widget-view+json": {
       "model_id": "d5d42951125e4c648bfe5e4c1da75aa6",
       "version_major": 2,
       "version_minor": 0
      },
      "text/plain": [
       "  0%|          | 0/59 [00:00<?, ?it/s]"
      ]
     },
     "metadata": {},
     "output_type": "display_data"
    },
    {
     "data": {
      "application/vnd.jupyter.widget-view+json": {
       "model_id": "355204e8779e468b897557067bef1a5d",
       "version_major": 2,
       "version_minor": 0
      },
      "text/plain": [
       "  0%|          | 0/59 [00:00<?, ?it/s]"
      ]
     },
     "metadata": {},
     "output_type": "display_data"
    },
    {
     "data": {
      "application/vnd.jupyter.widget-view+json": {
       "model_id": "17eea5af2a144f7d81b1fa447f477a5c",
       "version_major": 2,
       "version_minor": 0
      },
      "text/plain": [
       "  0%|          | 0/59 [00:00<?, ?it/s]"
      ]
     },
     "metadata": {},
     "output_type": "display_data"
    },
    {
     "data": {
      "application/vnd.jupyter.widget-view+json": {
       "model_id": "16a083311b0e4453a5696213ab3cde41",
       "version_major": 2,
       "version_minor": 0
      },
      "text/plain": [
       "  0%|          | 0/59 [00:00<?, ?it/s]"
      ]
     },
     "metadata": {},
     "output_type": "display_data"
    },
    {
     "data": {
      "application/vnd.jupyter.widget-view+json": {
       "model_id": "64504509e4bc4476bbff8d3e857ad6f4",
       "version_major": 2,
       "version_minor": 0
      },
      "text/plain": [
       "  0%|          | 0/59 [00:00<?, ?it/s]"
      ]
     },
     "metadata": {},
     "output_type": "display_data"
    },
    {
     "data": {
      "application/vnd.jupyter.widget-view+json": {
       "model_id": "de4c3d2133c441c59a7f3742aee4a85a",
       "version_major": 2,
       "version_minor": 0
      },
      "text/plain": [
       "  0%|          | 0/59 [00:00<?, ?it/s]"
      ]
     },
     "metadata": {},
     "output_type": "display_data"
    },
    {
     "data": {
      "application/vnd.jupyter.widget-view+json": {
       "model_id": "5d5fc3ec4bf44344bfe82aa6793f9ab9",
       "version_major": 2,
       "version_minor": 0
      },
      "text/plain": [
       "  0%|          | 0/59 [00:00<?, ?it/s]"
      ]
     },
     "metadata": {},
     "output_type": "display_data"
    },
    {
     "data": {
      "application/vnd.jupyter.widget-view+json": {
       "model_id": "111c844d79ca4db19a565c1751bf56a4",
       "version_major": 2,
       "version_minor": 0
      },
      "text/plain": [
       "  0%|          | 0/59 [00:00<?, ?it/s]"
      ]
     },
     "metadata": {},
     "output_type": "display_data"
    },
    {
     "data": {
      "application/vnd.jupyter.widget-view+json": {
       "model_id": "ca1697fb732a4d3ab315608c7642d9ad",
       "version_major": 2,
       "version_minor": 0
      },
      "text/plain": [
       "  0%|          | 0/59 [00:00<?, ?it/s]"
      ]
     },
     "metadata": {},
     "output_type": "display_data"
    },
    {
     "data": {
      "application/vnd.jupyter.widget-view+json": {
       "model_id": "0c168d26b0684aa1b3d29f8cff1dcf78",
       "version_major": 2,
       "version_minor": 0
      },
      "text/plain": [
       "  0%|          | 0/59 [00:00<?, ?it/s]"
      ]
     },
     "metadata": {},
     "output_type": "display_data"
    },
    {
     "data": {
      "application/vnd.jupyter.widget-view+json": {
       "model_id": "43c86e5dfd26433a851244f184953d96",
       "version_major": 2,
       "version_minor": 0
      },
      "text/plain": [
       "  0%|          | 0/59 [00:00<?, ?it/s]"
      ]
     },
     "metadata": {},
     "output_type": "display_data"
    },
    {
     "data": {
      "application/vnd.jupyter.widget-view+json": {
       "model_id": "34de83aa9ede4f89a1b048116186770d",
       "version_major": 2,
       "version_minor": 0
      },
      "text/plain": [
       "  0%|          | 0/59 [00:00<?, ?it/s]"
      ]
     },
     "metadata": {},
     "output_type": "display_data"
    },
    {
     "data": {
      "application/vnd.jupyter.widget-view+json": {
       "model_id": "7e821a97d7554a8b9ed28385321b47c8",
       "version_major": 2,
       "version_minor": 0
      },
      "text/plain": [
       "  0%|          | 0/59 [00:00<?, ?it/s]"
      ]
     },
     "metadata": {},
     "output_type": "display_data"
    },
    {
     "data": {
      "application/vnd.jupyter.widget-view+json": {
       "model_id": "d795fcf951ca458287bbd261d2a658b6",
       "version_major": 2,
       "version_minor": 0
      },
      "text/plain": [
       "  0%|          | 0/59 [00:00<?, ?it/s]"
      ]
     },
     "metadata": {},
     "output_type": "display_data"
    },
    {
     "data": {
      "application/vnd.jupyter.widget-view+json": {
       "model_id": "4ab874c0ed6847e0becde2766257164a",
       "version_major": 2,
       "version_minor": 0
      },
      "text/plain": [
       "  0%|          | 0/59 [00:00<?, ?it/s]"
      ]
     },
     "metadata": {},
     "output_type": "display_data"
    },
    {
     "data": {
      "application/vnd.jupyter.widget-view+json": {
       "model_id": "2fdd41cef884479891a0bfc1da3c6b16",
       "version_major": 2,
       "version_minor": 0
      },
      "text/plain": [
       "  0%|          | 0/59 [00:00<?, ?it/s]"
      ]
     },
     "metadata": {},
     "output_type": "display_data"
    },
    {
     "data": {
      "application/vnd.jupyter.widget-view+json": {
       "model_id": "60d8c15a6d0041fbba8d778bbc5ced7d",
       "version_major": 2,
       "version_minor": 0
      },
      "text/plain": [
       "  0%|          | 0/59 [00:00<?, ?it/s]"
      ]
     },
     "metadata": {},
     "output_type": "display_data"
    },
    {
     "data": {
      "application/vnd.jupyter.widget-view+json": {
       "model_id": "29ea5cdd4a11408c80d5fc17006c700f",
       "version_major": 2,
       "version_minor": 0
      },
      "text/plain": [
       "  0%|          | 0/59 [00:00<?, ?it/s]"
      ]
     },
     "metadata": {},
     "output_type": "display_data"
    },
    {
     "data": {
      "application/vnd.jupyter.widget-view+json": {
       "model_id": "5f30f52ea7454611b84f81f28248a387",
       "version_major": 2,
       "version_minor": 0
      },
      "text/plain": [
       "  0%|          | 0/59 [00:00<?, ?it/s]"
      ]
     },
     "metadata": {},
     "output_type": "display_data"
    },
    {
     "data": {
      "application/vnd.jupyter.widget-view+json": {
       "model_id": "c11dc41a91d6481eaa00620979f1e404",
       "version_major": 2,
       "version_minor": 0
      },
      "text/plain": [
       "  0%|          | 0/59 [00:00<?, ?it/s]"
      ]
     },
     "metadata": {},
     "output_type": "display_data"
    },
    {
     "data": {
      "application/vnd.jupyter.widget-view+json": {
       "model_id": "0be91bd7f77b42b7b189e7e0ff6093b9",
       "version_major": 2,
       "version_minor": 0
      },
      "text/plain": [
       "  0%|          | 0/59 [00:00<?, ?it/s]"
      ]
     },
     "metadata": {},
     "output_type": "display_data"
    },
    {
     "data": {
      "application/vnd.jupyter.widget-view+json": {
       "model_id": "700896bc3dca4a77a3adc0ee4f8a658c",
       "version_major": 2,
       "version_minor": 0
      },
      "text/plain": [
       "  0%|          | 0/59 [00:00<?, ?it/s]"
      ]
     },
     "metadata": {},
     "output_type": "display_data"
    },
    {
     "data": {
      "application/vnd.jupyter.widget-view+json": {
       "model_id": "936a730fa989435a9fde9ad9305bdece",
       "version_major": 2,
       "version_minor": 0
      },
      "text/plain": [
       "  0%|          | 0/59 [00:00<?, ?it/s]"
      ]
     },
     "metadata": {},
     "output_type": "display_data"
    },
    {
     "data": {
      "application/vnd.jupyter.widget-view+json": {
       "model_id": "442255cfc0df4d7aa2a470162eee4341",
       "version_major": 2,
       "version_minor": 0
      },
      "text/plain": [
       "  0%|          | 0/59 [00:00<?, ?it/s]"
      ]
     },
     "metadata": {},
     "output_type": "display_data"
    },
    {
     "data": {
      "application/vnd.jupyter.widget-view+json": {
       "model_id": "5f4ec67a6bf4411bb9cfadff000f90c7",
       "version_major": 2,
       "version_minor": 0
      },
      "text/plain": [
       "  0%|          | 0/59 [00:00<?, ?it/s]"
      ]
     },
     "metadata": {},
     "output_type": "display_data"
    },
    {
     "data": {
      "application/vnd.jupyter.widget-view+json": {
       "model_id": "7bf7af5ec5d4478db3477395295cd558",
       "version_major": 2,
       "version_minor": 0
      },
      "text/plain": [
       "  0%|          | 0/59 [00:00<?, ?it/s]"
      ]
     },
     "metadata": {},
     "output_type": "display_data"
    },
    {
     "data": {
      "application/vnd.jupyter.widget-view+json": {
       "model_id": "d68f7f5b724c4089b1124ee45b234c87",
       "version_major": 2,
       "version_minor": 0
      },
      "text/plain": [
       "  0%|          | 0/59 [00:00<?, ?it/s]"
      ]
     },
     "metadata": {},
     "output_type": "display_data"
    },
    {
     "data": {
      "application/vnd.jupyter.widget-view+json": {
       "model_id": "7dd4db48c4e14e90a68a777b9a097f5f",
       "version_major": 2,
       "version_minor": 0
      },
      "text/plain": [
       "  0%|          | 0/59 [00:00<?, ?it/s]"
      ]
     },
     "metadata": {},
     "output_type": "display_data"
    },
    {
     "data": {
      "application/vnd.jupyter.widget-view+json": {
       "model_id": "5bcdf8d66a334912add5e3f1d7ee67c8",
       "version_major": 2,
       "version_minor": 0
      },
      "text/plain": [
       "  0%|          | 0/59 [00:00<?, ?it/s]"
      ]
     },
     "metadata": {},
     "output_type": "display_data"
    },
    {
     "data": {
      "application/vnd.jupyter.widget-view+json": {
       "model_id": "654f7eec88d7409dad2a65cc40b4bd70",
       "version_major": 2,
       "version_minor": 0
      },
      "text/plain": [
       "  0%|          | 0/59 [00:00<?, ?it/s]"
      ]
     },
     "metadata": {},
     "output_type": "display_data"
    },
    {
     "data": {
      "application/vnd.jupyter.widget-view+json": {
       "model_id": "feac0aada1ee45dbab8c1aa159009274",
       "version_major": 2,
       "version_minor": 0
      },
      "text/plain": [
       "  0%|          | 0/59 [00:00<?, ?it/s]"
      ]
     },
     "metadata": {},
     "output_type": "display_data"
    },
    {
     "data": {
      "application/vnd.jupyter.widget-view+json": {
       "model_id": "e20e7eeaa869450da22f63cf96bc2da6",
       "version_major": 2,
       "version_minor": 0
      },
      "text/plain": [
       "  0%|          | 0/59 [00:00<?, ?it/s]"
      ]
     },
     "metadata": {},
     "output_type": "display_data"
    },
    {
     "data": {
      "application/vnd.jupyter.widget-view+json": {
       "model_id": "35e5f536c9794258aefb8afb5733f229",
       "version_major": 2,
       "version_minor": 0
      },
      "text/plain": [
       "  0%|          | 0/59 [00:00<?, ?it/s]"
      ]
     },
     "metadata": {},
     "output_type": "display_data"
    },
    {
     "data": {
      "application/vnd.jupyter.widget-view+json": {
       "model_id": "9a3580377b9649c8b47dc13c72804726",
       "version_major": 2,
       "version_minor": 0
      },
      "text/plain": [
       "  0%|          | 0/59 [00:00<?, ?it/s]"
      ]
     },
     "metadata": {},
     "output_type": "display_data"
    },
    {
     "data": {
      "application/vnd.jupyter.widget-view+json": {
       "model_id": "5276378bf0c348438c7476f81dee57c5",
       "version_major": 2,
       "version_minor": 0
      },
      "text/plain": [
       "  0%|          | 0/59 [00:00<?, ?it/s]"
      ]
     },
     "metadata": {},
     "output_type": "display_data"
    },
    {
     "data": {
      "application/vnd.jupyter.widget-view+json": {
       "model_id": "e7f1c05086694e9ea0d23f5568653f13",
       "version_major": 2,
       "version_minor": 0
      },
      "text/plain": [
       "  0%|          | 0/59 [00:00<?, ?it/s]"
      ]
     },
     "metadata": {},
     "output_type": "display_data"
    },
    {
     "data": {
      "application/vnd.jupyter.widget-view+json": {
       "model_id": "ca377777f8084fc7a6c69bf484af5c96",
       "version_major": 2,
       "version_minor": 0
      },
      "text/plain": [
       "  0%|          | 0/59 [00:00<?, ?it/s]"
      ]
     },
     "metadata": {},
     "output_type": "display_data"
    },
    {
     "data": {
      "application/vnd.jupyter.widget-view+json": {
       "model_id": "c3ddfbac006341feb1d2eeb64fd408a5",
       "version_major": 2,
       "version_minor": 0
      },
      "text/plain": [
       "  0%|          | 0/59 [00:00<?, ?it/s]"
      ]
     },
     "metadata": {},
     "output_type": "display_data"
    },
    {
     "data": {
      "application/vnd.jupyter.widget-view+json": {
       "model_id": "7e283451886d4b1e9045f33929a8b394",
       "version_major": 2,
       "version_minor": 0
      },
      "text/plain": [
       "  0%|          | 0/59 [00:00<?, ?it/s]"
      ]
     },
     "metadata": {},
     "output_type": "display_data"
    },
    {
     "data": {
      "application/vnd.jupyter.widget-view+json": {
       "model_id": "1300ffa071024eb98ea091b788b11f5d",
       "version_major": 2,
       "version_minor": 0
      },
      "text/plain": [
       "  0%|          | 0/59 [00:00<?, ?it/s]"
      ]
     },
     "metadata": {},
     "output_type": "display_data"
    },
    {
     "data": {
      "application/vnd.jupyter.widget-view+json": {
       "model_id": "7da09fa5351a4872872c0e2873930deb",
       "version_major": 2,
       "version_minor": 0
      },
      "text/plain": [
       "  0%|          | 0/59 [00:00<?, ?it/s]"
      ]
     },
     "metadata": {},
     "output_type": "display_data"
    },
    {
     "data": {
      "application/vnd.jupyter.widget-view+json": {
       "model_id": "833284ced0a741ea903f17be57854997",
       "version_major": 2,
       "version_minor": 0
      },
      "text/plain": [
       "  0%|          | 0/59 [00:00<?, ?it/s]"
      ]
     },
     "metadata": {},
     "output_type": "display_data"
    },
    {
     "data": {
      "application/vnd.jupyter.widget-view+json": {
       "model_id": "580165034c954d218366b6b4d9f39dab",
       "version_major": 2,
       "version_minor": 0
      },
      "text/plain": [
       "  0%|          | 0/59 [00:00<?, ?it/s]"
      ]
     },
     "metadata": {},
     "output_type": "display_data"
    },
    {
     "data": {
      "application/vnd.jupyter.widget-view+json": {
       "model_id": "f4051e6d98914e57808970f5aa9fb652",
       "version_major": 2,
       "version_minor": 0
      },
      "text/plain": [
       "  0%|          | 0/59 [00:00<?, ?it/s]"
      ]
     },
     "metadata": {},
     "output_type": "display_data"
    },
    {
     "data": {
      "application/vnd.jupyter.widget-view+json": {
       "model_id": "f48a4685c13f4b53877f31be4a96237b",
       "version_major": 2,
       "version_minor": 0
      },
      "text/plain": [
       "  0%|          | 0/59 [00:00<?, ?it/s]"
      ]
     },
     "metadata": {},
     "output_type": "display_data"
    },
    {
     "data": {
      "application/vnd.jupyter.widget-view+json": {
       "model_id": "05919ed2c2bc4593b34f477e2143818b",
       "version_major": 2,
       "version_minor": 0
      },
      "text/plain": [
       "  0%|          | 0/59 [00:00<?, ?it/s]"
      ]
     },
     "metadata": {},
     "output_type": "display_data"
    },
    {
     "data": {
      "application/vnd.jupyter.widget-view+json": {
       "model_id": "d8587d0f494c4069b44b1d702a3f379a",
       "version_major": 2,
       "version_minor": 0
      },
      "text/plain": [
       "  0%|          | 0/59 [00:00<?, ?it/s]"
      ]
     },
     "metadata": {},
     "output_type": "display_data"
    },
    {
     "data": {
      "application/vnd.jupyter.widget-view+json": {
       "model_id": "ee96bb908fcc44ca9a863dcac68f90b8",
       "version_major": 2,
       "version_minor": 0
      },
      "text/plain": [
       "  0%|          | 0/59 [00:00<?, ?it/s]"
      ]
     },
     "metadata": {},
     "output_type": "display_data"
    },
    {
     "data": {
      "application/vnd.jupyter.widget-view+json": {
       "model_id": "e65fc1fda459485189bb8c4f1f86aef9",
       "version_major": 2,
       "version_minor": 0
      },
      "text/plain": [
       "  0%|          | 0/59 [00:00<?, ?it/s]"
      ]
     },
     "metadata": {},
     "output_type": "display_data"
    },
    {
     "data": {
      "application/vnd.jupyter.widget-view+json": {
       "model_id": "e06d77f3c1e04dbc9750e477de9ff60c",
       "version_major": 2,
       "version_minor": 0
      },
      "text/plain": [
       "  0%|          | 0/59 [00:00<?, ?it/s]"
      ]
     },
     "metadata": {},
     "output_type": "display_data"
    },
    {
     "data": {
      "application/vnd.jupyter.widget-view+json": {
       "model_id": "aa9fc7a0b18f483d917857fb70dddf6b",
       "version_major": 2,
       "version_minor": 0
      },
      "text/plain": [
       "  0%|          | 0/59 [00:00<?, ?it/s]"
      ]
     },
     "metadata": {},
     "output_type": "display_data"
    },
    {
     "data": {
      "application/vnd.jupyter.widget-view+json": {
       "model_id": "6ec5c847c03c42bb91cc35a98f8c5789",
       "version_major": 2,
       "version_minor": 0
      },
      "text/plain": [
       "  0%|          | 0/59 [00:00<?, ?it/s]"
      ]
     },
     "metadata": {},
     "output_type": "display_data"
    },
    {
     "data": {
      "application/vnd.jupyter.widget-view+json": {
       "model_id": "ea1f6e3d64644cffa732894dd67a2c23",
       "version_major": 2,
       "version_minor": 0
      },
      "text/plain": [
       "  0%|          | 0/59 [00:00<?, ?it/s]"
      ]
     },
     "metadata": {},
     "output_type": "display_data"
    },
    {
     "data": {
      "application/vnd.jupyter.widget-view+json": {
       "model_id": "7729ee06942946abac08420374a851d8",
       "version_major": 2,
       "version_minor": 0
      },
      "text/plain": [
       "  0%|          | 0/59 [00:00<?, ?it/s]"
      ]
     },
     "metadata": {},
     "output_type": "display_data"
    },
    {
     "data": {
      "application/vnd.jupyter.widget-view+json": {
       "model_id": "41bb39c10fb44708aae5bec45f634d66",
       "version_major": 2,
       "version_minor": 0
      },
      "text/plain": [
       "  0%|          | 0/59 [00:00<?, ?it/s]"
      ]
     },
     "metadata": {},
     "output_type": "display_data"
    },
    {
     "data": {
      "application/vnd.jupyter.widget-view+json": {
       "model_id": "918c7336904443efa01b6e12369ad437",
       "version_major": 2,
       "version_minor": 0
      },
      "text/plain": [
       "  0%|          | 0/59 [00:00<?, ?it/s]"
      ]
     },
     "metadata": {},
     "output_type": "display_data"
    },
    {
     "data": {
      "application/vnd.jupyter.widget-view+json": {
       "model_id": "3efd207a8e4e45f2b686fe9baa1640a1",
       "version_major": 2,
       "version_minor": 0
      },
      "text/plain": [
       "  0%|          | 0/59 [00:00<?, ?it/s]"
      ]
     },
     "metadata": {},
     "output_type": "display_data"
    }
   ],
   "source": [
    "model = Net().to(device)\n",
    "optimizer = optim.Adadelta(model.parameters(), lr=params['lr'])\n",
    "\n",
    "latentMetric = LatentMetric()\n",
    "labelMetric = LabelMetric()\n",
    "\n",
    "test_losses = []\n",
    "\n",
    "scheduler = StepLR(optimizer, step_size=1, gamma=0.7)\n",
    "for epoch in tqdm(range(1, params['epoches'] + 1)):\n",
    "    \n",
    "    train(model, device, ftloader, optimizer, epoch)\n",
    "    test_losses.append(test(model, device, ft_dict['test_loader']))\n",
    "    \n",
    "    measure(model, device, ftloader, latentMetric, labelMetric)\n",
    "    \n",
    "    scheduler.step()"
   ]
  },
  {
   "cell_type": "code",
   "execution_count": 72,
   "metadata": {},
   "outputs": [
    {
     "data": {
      "image/png": "[encoded data removed]",
      "text/plain": [
       "<Figure size 640x480 with 1 Axes>"
      ]
     },
     "metadata": {},
     "output_type": "display_data"
    }
   ],
   "source": [
    "plot_loss(test_losses)"
   ]
  },
  {
   "cell_type": "code",
   "execution_count": null,
   "metadata": {},
   "outputs": [],
   "source": []
  },
  {
   "cell_type": "markdown",
   "metadata": {},
   "source": [
    "## PCA and TSNA analysis"
   ]
  },
  {
   "cell_type": "code",
   "execution_count": 156,
   "metadata": {},
   "outputs": [],
   "source": [
    "hard_flag = (learn > 40) & (forget > 59)\n",
    "hard_idx = np.where( hard_flag )[0][:10]\n",
    "easy_idx = np.where( ~hard_flag )[0][:50]"
   ]
  },
  {
   "cell_type": "code",
   "execution_count": 157,
   "metadata": {},
   "outputs": [
    {
     "data": {
      "text/html": [
       "<style>#sk-container-id-4 {color: black;}#sk-container-id-4 pre{padding: 0;}#sk-container-id-4 div.sk-toggleable {background-color: white;}#sk-container-id-4 label.sk-toggleable__label {cursor: pointer;display: block;width: 100%;margin-bottom: 0;padding: 0.3em;box-sizing: border-box;text-align: center;}#sk-container-id-4 label.sk-toggleable__label-arrow:before {content: \"▸\";float: left;margin-right: 0.25em;color: #696969;}#sk-container-id-4 label.sk-toggleable__label-arrow:hover:before {color: black;}#sk-container-id-4 div.sk-estimator:hover label.sk-toggleable__label-arrow:before {color: black;}#sk-container-id-4 div.sk-toggleable__content {max-height: 0;max-width: 0;overflow: hidden;text-align: left;background-color: #f0f8ff;}#sk-container-id-4 div.sk-toggleable__content pre {margin: 0.2em;color: black;border-radius: 0.25em;background-color: #f0f8ff;}#sk-container-id-4 input.sk-toggleable__control:checked~div.sk-toggleable__content {max-height: 200px;max-width: 100%;overflow: auto;}#sk-container-id-4 input.sk-toggleable__control:checked~label.sk-toggleable__label-arrow:before {content: \"▾\";}#sk-container-id-4 div.sk-estimator input.sk-toggleable__control:checked~label.sk-toggleable__label {background-color: #d4ebff;}#sk-container-id-4 div.sk-label input.sk-toggleable__control:checked~label.sk-toggleable__label {background-color: #d4ebff;}#sk-container-id-4 input.sk-hidden--visually {border: 0;clip: rect(1px 1px 1px 1px);clip: rect(1px, 1px, 1px, 1px);height: 1px;margin: -1px;overflow: hidden;padding: 0;position: absolute;width: 1px;}#sk-container-id-4 div.sk-estimator {font-family: monospace;background-color: #f0f8ff;border: 1px dotted black;border-radius: 0.25em;box-sizing: border-box;margin-bottom: 0.5em;}#sk-container-id-4 div.sk-estimator:hover {background-color: #d4ebff;}#sk-container-id-4 div.sk-parallel-item::after {content: \"\";width: 100%;border-bottom: 1px solid gray;flex-grow: 1;}#sk-container-id-4 div.sk-label:hover label.sk-toggleable__label {background-color: #d4ebff;}#sk-container-id-4 div.sk-serial::before {content: \"\";position: absolute;border-left: 1px solid gray;box-sizing: border-box;top: 0;bottom: 0;left: 50%;z-index: 0;}#sk-container-id-4 div.sk-serial {display: flex;flex-direction: column;align-items: center;background-color: white;padding-right: 0.2em;padding-left: 0.2em;position: relative;}#sk-container-id-4 div.sk-item {position: relative;z-index: 1;}#sk-container-id-4 div.sk-parallel {display: flex;align-items: stretch;justify-content: center;background-color: white;position: relative;}#sk-container-id-4 div.sk-item::before, #sk-container-id-4 div.sk-parallel-item::before {content: \"\";position: absolute;border-left: 1px solid gray;box-sizing: border-box;top: 0;bottom: 0;left: 50%;z-index: -1;}#sk-container-id-4 div.sk-parallel-item {display: flex;flex-direction: column;z-index: 1;position: relative;background-color: white;}#sk-container-id-4 div.sk-parallel-item:first-child::after {align-self: flex-end;width: 50%;}#sk-container-id-4 div.sk-parallel-item:last-child::after {align-self: flex-start;width: 50%;}#sk-container-id-4 div.sk-parallel-item:only-child::after {width: 0;}#sk-container-id-4 div.sk-dashed-wrapped {border: 1px dashed gray;margin: 0 0.4em 0.5em 0.4em;box-sizing: border-box;padding-bottom: 0.4em;background-color: white;}#sk-container-id-4 div.sk-label label {font-family: monospace;font-weight: bold;display: inline-block;line-height: 1.2em;}#sk-container-id-4 div.sk-label-container {text-align: center;}#sk-container-id-4 div.sk-container {/* jupyter's `normalize.less` sets `[hidden] { display: none; }` but bootstrap.min.css set `[hidden] { display: none !important; }` so we also need the `!important` here to be able to override the default hidden behavior on the sphinx rendered scikit-learn.org. See: https://github.com/scikit-learn/scikit-learn/issues/21755 */display: inline-block !important;position: relative;}#sk-container-id-4 div.sk-text-repr-fallback {display: none;}</style><div id=\"sk-container-id-4\" class=\"sk-top-container\"><div class=\"sk-text-repr-fallback\"><pre>PCA(n_components=2)</pre><b>In a Jupyter environment, please rerun this cell to show the HTML representation or trust the notebook. <br />On GitHub, the HTML representation is unable to render, please try loading this page with nbviewer.org.</b></div><div class=\"sk-container\" hidden><div class=\"sk-item\"><div class=\"sk-estimator sk-toggleable\"><input class=\"sk-toggleable__control sk-hidden--visually\" id=\"sk-estimator-id-4\" type=\"checkbox\" checked><label for=\"sk-estimator-id-4\" class=\"sk-toggleable__label sk-toggleable__label-arrow\">PCA</label><div class=\"sk-toggleable__content\"><pre>PCA(n_components=2)</pre></div></div></div></div></div>"
      ],
      "text/plain": [
       "PCA(n_components=2)"
      ]
     },
     "execution_count": 157,
     "metadata": {},
     "output_type": "execute_result"
    }
   ],
   "source": [
    "pca = PCA(n_components = 2)\n",
    "pca.fit( latentMetric.res_epoches[0] )"
   ]
  },
  {
   "cell_type": "code",
   "execution_count": 158,
   "metadata": {},
   "outputs": [
    {
     "data": {
      "image/png": "[encoded data removed]",
      "text/plain": [
       "<Figure size 2000x1500 with 20 Axes>"
      ]
     },
     "metadata": {},
     "output_type": "display_data"
    }
   ],
   "source": [
    "fig, axs = plt.subplots(4, 5, figsize=(20, 15), sharex=True, sharey=True)\n",
    "\n",
    "for i, ax in enumerate(axs.flat):\n",
    "    #ax.set(xlabel='x-label', ylabel='y-label')\n",
    "\n",
    "    latent_space_pca = pca.transform( latentMetric.res_epoches[i] )\n",
    "    \n",
    "    ax.scatter(\n",
    "        latent_space_pca[easy_idx,0],\n",
    "        latent_space_pca[easy_idx,1],\n",
    "        color=\"turquoise\",\n",
    "        label=\"easy\"\n",
    "    )\n",
    "    ax.scatter(\n",
    "        latent_space_pca[hard_idx,0],\n",
    "        latent_space_pca[hard_idx,1],\n",
    "        color=\"darkorange\",\n",
    "        label=\"hard\"\n",
    "    )\n",
    "\n",
    "# Hide x labels and tick labels for top plots and y ticks for right plots.\n",
    "for ax in axs.flat:\n",
    "    ax.label_outer()"
   ]
  },
  {
   "cell_type": "markdown",
   "metadata": {},
   "source": [
    "## Correlation with SSF metric"
   ]
  },
  {
   "cell_type": "code",
   "execution_count": 209,
   "metadata": {},
   "outputs": [],
   "source": [
    "complex_flag = (learn > 30) & (forget > 59)\n",
    "mislabel_flag = (learn > 30) & (forget < 10)\n"
   ]
  },
  {
   "cell_type": "code",
   "execution_count": 218,
   "metadata": {},
   "outputs": [],
   "source": [
    "named_metrics = {\n",
    "    'Mean abs shift': MeanAbsShiftMetric,\n",
    "    'Var abs shift': VarAbsShiftMetric,\n",
    "    'Norm of variance': VarianceMetric,\n",
    "    'Norm of variance(alt)': VarianceMetric2,\n",
    "    'Velocity': VelocityMetric,\n",
    "    'Distance': JustDistanceMetric\n",
    "}"
   ]
  },
  {
   "cell_type": "code",
   "execution_count": 235,
   "metadata": {},
   "outputs": [
    {
     "data": {
      "text/plain": [
       "<matplotlib.legend.Legend at 0x1aa93171870>"
      ]
     },
     "execution_count": 235,
     "metadata": {},
     "output_type": "execute_result"
    },
    {
     "data": {
      "image/png": "[encoded data removed]",
      "text/plain": [
       "<Figure size 640x480 with 1 Axes>"
      ]
     },
     "metadata": {},
     "output_type": "display_data"
    }
   ],
   "source": [
    "m1, m2 = get_metr_values( latentMetric, MeanAbsShiftMetric ), get_metr_values( latentMetric, VelocityVar )\n",
    "\n",
    "plt.scatter(\n",
    "    m1[ ~complex_metr ][:300],\n",
    "    m2[ ~complex_metr ][:300],\n",
    "    label='easy'\n",
    ")\n",
    "plt.scatter(\n",
    "    m1[ complex_metr ][:200],\n",
    "    m2[ complex_metr ][:200],\n",
    "    label='hard'\n",
    ")\n",
    "plt.scatter(\n",
    "    m1[ mislabel_flag ][:200],\n",
    "    m2[ mislabel_flag ][:200],\n",
    "    label='mislabel'\n",
    ")\n",
    "plt.xlabel('Mean abs shift')\n",
    "plt.ylabel('Velocity')\n",
    "plt.legend()"
   ]
  },
  {
   "cell_type": "code",
   "execution_count": 183,
   "metadata": {},
   "outputs": [
    {
     "name": "stdout",
     "output_type": "stream",
     "text": [
      "(30000,)\n",
      "(30000,)\n"
     ]
    },
    {
     "data": {
      "text/html": [
       "<div>\n",
       "<style scoped>\n",
       "    .dataframe tbody tr th:only-of-type {\n",
       "        vertical-align: middle;\n",
       "    }\n",
       "\n",
       "    .dataframe tbody tr th {\n",
       "        vertical-align: top;\n",
       "    }\n",
       "\n",
       "    .dataframe thead th {\n",
       "        text-align: right;\n",
       "    }\n",
       "</style>\n",
       "<table border=\"1\" class=\"dataframe\">\n",
       "  <thead>\n",
       "    <tr style=\"text-align: right;\">\n",
       "      <th></th>\n",
       "      <th>name</th>\n",
       "      <th>correlation with SSF</th>\n",
       "    </tr>\n",
       "  </thead>\n",
       "  <tbody>\n",
       "    <tr>\n",
       "      <th>0</th>\n",
       "      <td>Mean abs shift</td>\n",
       "      <td>0.003025</td>\n",
       "    </tr>\n",
       "    <tr>\n",
       "      <th>1</th>\n",
       "      <td>Var abs shift</td>\n",
       "      <td>0.002526</td>\n",
       "    </tr>\n",
       "    <tr>\n",
       "      <th>2</th>\n",
       "      <td>Norm of variance</td>\n",
       "      <td>0.002958</td>\n",
       "    </tr>\n",
       "    <tr>\n",
       "      <th>3</th>\n",
       "      <td>Norm of variance(alt)</td>\n",
       "      <td>0.002641</td>\n",
       "    </tr>\n",
       "    <tr>\n",
       "      <th>4</th>\n",
       "      <td>Velocity</td>\n",
       "      <td>-0.006867</td>\n",
       "    </tr>\n",
       "    <tr>\n",
       "      <th>5</th>\n",
       "      <td>Distance</td>\n",
       "      <td>0.001080</td>\n",
       "    </tr>\n",
       "  </tbody>\n",
       "</table>\n",
       "</div>"
      ],
      "text/plain": [
       "                    name  correlation with SSF\n",
       "0         Mean abs shift              0.003025\n",
       "1          Var abs shift              0.002526\n",
       "2       Norm of variance              0.002958\n",
       "3  Norm of variance(alt)              0.002641\n",
       "4               Velocity             -0.006867\n",
       "5               Distance              0.001080"
      ]
     },
     "execution_count": 183,
     "metadata": {},
     "output_type": "execute_result"
    }
   ],
   "source": [
    "pd.DataFrame({\n",
    "    'name': list(named_metrics.keys()),\n",
    "    'correlation with SSF': [\n",
    "        corr_with_arr( latentMetric, C, complex_metr )\n",
    "        for C in named_metrics.values()\n",
    "    ],\n",
    "})"
   ]
  },
  {
   "cell_type": "markdown",
   "metadata": {},
   "source": [
    "Metrics do not really correlate but at least we can separate region with hard samples according to our metrics"
   ]
  },
  {
   "cell_type": "code",
   "execution_count": null,
   "metadata": {},
   "outputs": [],
   "source": []
  },
  {
   "cell_type": "markdown",
   "metadata": {},
   "source": [
    "## Correlation with uncertanty"
   ]
  },
  {
   "cell_type": "code",
   "execution_count": 219,
   "metadata": {},
   "outputs": [
    {
     "name": "stdout",
     "output_type": "stream",
     "text": [
      "(30000,)\n",
      "(30000,)\n",
      "(30000,)\n",
      "(30000,)\n"
     ]
    },
    {
     "data": {
      "text/html": [
       "<div>\n",
       "<style scoped>\n",
       "    .dataframe tbody tr th:only-of-type {\n",
       "        vertical-align: middle;\n",
       "    }\n",
       "\n",
       "    .dataframe tbody tr th {\n",
       "        vertical-align: top;\n",
       "    }\n",
       "\n",
       "    .dataframe thead th {\n",
       "        text-align: right;\n",
       "    }\n",
       "</style>\n",
       "<table border=\"1\" class=\"dataframe\">\n",
       "  <thead>\n",
       "    <tr style=\"text-align: right;\">\n",
       "      <th></th>\n",
       "      <th>name</th>\n",
       "      <th>correlation with Uncertanty(max prob)</th>\n",
       "      <th>correlation with Uncertanty(entropy)</th>\n",
       "    </tr>\n",
       "  </thead>\n",
       "  <tbody>\n",
       "    <tr>\n",
       "      <th>0</th>\n",
       "      <td>Mean abs shift</td>\n",
       "      <td>-0.766788</td>\n",
       "      <td>-0.918396</td>\n",
       "    </tr>\n",
       "    <tr>\n",
       "      <th>1</th>\n",
       "      <td>Var abs shift</td>\n",
       "      <td>-0.771354</td>\n",
       "      <td>-0.922616</td>\n",
       "    </tr>\n",
       "    <tr>\n",
       "      <th>2</th>\n",
       "      <td>Norm of variance</td>\n",
       "      <td>-0.768317</td>\n",
       "      <td>-0.919440</td>\n",
       "    </tr>\n",
       "    <tr>\n",
       "      <th>3</th>\n",
       "      <td>Norm of variance(alt)</td>\n",
       "      <td>-0.771697</td>\n",
       "      <td>-0.922314</td>\n",
       "    </tr>\n",
       "    <tr>\n",
       "      <th>4</th>\n",
       "      <td>Velocity</td>\n",
       "      <td>0.742986</td>\n",
       "      <td>0.892242</td>\n",
       "    </tr>\n",
       "    <tr>\n",
       "      <th>5</th>\n",
       "      <td>Distance</td>\n",
       "      <td>-0.741434</td>\n",
       "      <td>-0.883433</td>\n",
       "    </tr>\n",
       "  </tbody>\n",
       "</table>\n",
       "</div>"
      ],
      "text/plain": [
       "                    name  correlation with Uncertanty(max prob)  \\\n",
       "0         Mean abs shift                              -0.766788   \n",
       "1          Var abs shift                              -0.771354   \n",
       "2       Norm of variance                              -0.768317   \n",
       "3  Norm of variance(alt)                              -0.771697   \n",
       "4               Velocity                               0.742986   \n",
       "5               Distance                              -0.741434   \n",
       "\n",
       "   correlation with Uncertanty(entropy)  \n",
       "0                             -0.918396  \n",
       "1                             -0.922616  \n",
       "2                             -0.919440  \n",
       "3                             -0.922314  \n",
       "4                              0.892242  \n",
       "5                             -0.883433  "
      ]
     },
     "execution_count": 219,
     "metadata": {},
     "output_type": "execute_result"
    }
   ],
   "source": [
    "# Correlation with uncalebrated uncertanty\n",
    "\n",
    "pd.DataFrame({\n",
    "    'name': list(named_metrics.keys()),\n",
    "    'correlation with Uncertanty(max prob)': [\n",
    "        compute_spr( labelMetric, latentMetric, UncertantyMetric, C )\n",
    "        for C in named_metrics.values()\n",
    "    ],\n",
    "    'correlation with Uncertanty(entropy)': [\n",
    "        compute_spr( labelMetric, latentMetric, UEntropyMetric, C )\n",
    "        for C in named_metrics.values()\n",
    "    ]\n",
    "})"
   ]
  },
  {
   "cell_type": "markdown",
   "metadata": {},
   "source": [
    "### Correlation with variabilty and confidence\n",
    "peper: \n"
   ]
  },
  {
   "cell_type": "code",
   "execution_count": 243,
   "metadata": {},
   "outputs": [
    {
     "name": "stdout",
     "output_type": "stream",
     "text": [
      "(30000,)\n",
      "(30000,)\n",
      "(30000,)\n",
      "(30000,)\n"
     ]
    },
    {
     "data": {
      "text/html": [
       "<div>\n",
       "<style scoped>\n",
       "    .dataframe tbody tr th:only-of-type {\n",
       "        vertical-align: middle;\n",
       "    }\n",
       "\n",
       "    .dataframe tbody tr th {\n",
       "        vertical-align: top;\n",
       "    }\n",
       "\n",
       "    .dataframe thead th {\n",
       "        text-align: right;\n",
       "    }\n",
       "</style>\n",
       "<table border=\"1\" class=\"dataframe\">\n",
       "  <thead>\n",
       "    <tr style=\"text-align: right;\">\n",
       "      <th></th>\n",
       "      <th>name</th>\n",
       "      <th>correlation with Confidence</th>\n",
       "      <th>correlation with Variability</th>\n",
       "    </tr>\n",
       "  </thead>\n",
       "  <tbody>\n",
       "    <tr>\n",
       "      <th>0</th>\n",
       "      <td>Mean abs shift</td>\n",
       "      <td>0.920660</td>\n",
       "      <td>0.912328</td>\n",
       "    </tr>\n",
       "    <tr>\n",
       "      <th>1</th>\n",
       "      <td>Var abs shift</td>\n",
       "      <td>0.925305</td>\n",
       "      <td>0.915514</td>\n",
       "    </tr>\n",
       "    <tr>\n",
       "      <th>2</th>\n",
       "      <td>Norm of variance</td>\n",
       "      <td>0.921750</td>\n",
       "      <td>0.913170</td>\n",
       "    </tr>\n",
       "    <tr>\n",
       "      <th>3</th>\n",
       "      <td>Norm of variance(alt)</td>\n",
       "      <td>0.924887</td>\n",
       "      <td>0.915327</td>\n",
       "    </tr>\n",
       "    <tr>\n",
       "      <th>4</th>\n",
       "      <td>Velocity</td>\n",
       "      <td>-0.894723</td>\n",
       "      <td>-0.884531</td>\n",
       "    </tr>\n",
       "    <tr>\n",
       "      <th>5</th>\n",
       "      <td>Distance</td>\n",
       "      <td>0.889329</td>\n",
       "      <td>0.865326</td>\n",
       "    </tr>\n",
       "  </tbody>\n",
       "</table>\n",
       "</div>"
      ],
      "text/plain": [
       "                    name  correlation with Confidence  \\\n",
       "0         Mean abs shift                     0.920660   \n",
       "1          Var abs shift                     0.925305   \n",
       "2       Norm of variance                     0.921750   \n",
       "3  Norm of variance(alt)                     0.924887   \n",
       "4               Velocity                    -0.894723   \n",
       "5               Distance                     0.889329   \n",
       "\n",
       "   correlation with Variability  \n",
       "0                      0.912328  \n",
       "1                      0.915514  \n",
       "2                      0.913170  \n",
       "3                      0.915327  \n",
       "4                     -0.884531  \n",
       "5                      0.865326  "
      ]
     },
     "execution_count": 243,
     "metadata": {},
     "output_type": "execute_result"
    }
   ],
   "source": [
    "pd.DataFrame({\n",
    "    'name': list(named_metrics.keys()),\n",
    "    'correlation with Confidence': [\n",
    "        compute_spr( labelMetric, latentMetric, ConfidenceMetric, C )\n",
    "        for C in named_metrics.values()\n",
    "    ],\n",
    "    'correlation with Variability': [\n",
    "        compute_spr( labelMetric, latentMetric, VariabilityMetric, C )\n",
    "        for C in named_metrics.values()\n",
    "    ]\n",
    "})"
   ]
  },
  {
   "cell_type": "code",
   "execution_count": 246,
   "metadata": {},
   "outputs": [
    {
     "data": {
      "text/plain": [
       "<matplotlib.legend.Legend at 0x1aad4f33be0>"
      ]
     },
     "execution_count": 246,
     "metadata": {},
     "output_type": "execute_result"
    },
    {
     "data": {
      "image/png": "[encoded data removed]",
      "text/plain": [
       "<Figure size 640x480 with 1 Axes>"
      ]
     },
     "metadata": {},
     "output_type": "display_data"
    }
   ],
   "source": [
    "m1, m2 = get_metr_values( labelMetric, VariabilityMetric ), get_metr_values( labelMetric, ConfidenceMetric )\n",
    "\n",
    "plt.scatter(\n",
    "    m1[ ~complex_metr ][:1000],\n",
    "    m2[ ~complex_metr ][:1000],\n",
    "    label='easy'\n",
    ")\n",
    "plt.scatter(\n",
    "    m1[ complex_metr ][:200],\n",
    "    m2[ complex_metr ][:200],\n",
    "    label='hard'\n",
    ")\n",
    "plt.scatter(\n",
    "    m1[ mislabel_flag ][:200],\n",
    "    m2[ mislabel_flag ][:200],\n",
    "    label='mislabel'\n",
    ")\n",
    "plt.xlabel('Uncertanty')\n",
    "plt.ylabel('Var uncertanty')\n",
    "plt.legend()"
   ]
  },
  {
   "cell_type": "code",
   "execution_count": 247,
   "metadata": {},
   "outputs": [
    {
     "data": {
      "text/plain": [
       "<matplotlib.legend.Legend at 0x1aad4fb44c0>"
      ]
     },
     "execution_count": 247,
     "metadata": {},
     "output_type": "execute_result"
    },
    {
     "data": {
      "image/png": "[encoded data removed]",
      "text/plain": [
       "<Figure size 640x480 with 1 Axes>"
      ]
     },
     "metadata": {},
     "output_type": "display_data"
    }
   ],
   "source": [
    "m1, m2 = get_metr_values( latentMetric, MeanAbsShiftMetric ), get_metr_values( latentMetric, VarAbsShiftMetric )\n",
    "\n",
    "plt.scatter(\n",
    "    m1[ ~complex_metr ],\n",
    "    m2[ ~complex_metr ],\n",
    "    label='easy'\n",
    ")\n",
    "plt.scatter(\n",
    "    m1[ complex_metr ][:200],\n",
    "    m2[ complex_metr ][:200],\n",
    "    label='hard'\n",
    ")\n",
    "plt.scatter(\n",
    "    m1[ mislabel_flag ][:200],\n",
    "    m2[ mislabel_flag ][:200],\n",
    "    label='mislabel'\n",
    ")\n",
    "plt.xlabel('Uncertanty')\n",
    "plt.ylabel('Var uncertanty')\n",
    "plt.legend()"
   ]
  },
  {
   "cell_type": "code",
   "execution_count": null,
   "metadata": {},
   "outputs": [],
   "source": []
  },
  {
   "cell_type": "markdown",
   "metadata": {},
   "source": [
    "## Visualization uncertant and confident expamples"
   ]
  },
  {
   "cell_type": "code",
   "execution_count": 117,
   "metadata": {
    "id": "Hsyr3lz_HAj4"
   },
   "outputs": [
    {
     "name": "stdout",
     "output_type": "stream",
     "text": [
      "(60000,)\n",
      "Highest score by Velocity\n"
     ]
    },
    {
     "data": {
      "image/png": "[encoded data removed]",
      "text/plain": [
       "<Figure size 4500x300 with 15 Axes>"
      ]
     },
     "metadata": {},
     "output_type": "display_data"
    },
    {
     "name": "stdout",
     "output_type": "stream",
     "text": [
      "Lowest score by Velocity\n"
     ]
    },
    {
     "data": {
      "image/png": "[encoded data removed]",
      "text/plain": [
       "<Figure size 4500x300 with 15 Axes>"
      ]
     },
     "metadata": {},
     "output_type": "display_data"
    }
   ],
   "source": [
    "plot_lh_obj( dataset1_0, latentMetric, VelocityMetric, name = 'Velocity' )"
   ]
  },
  {
   "cell_type": "code",
   "execution_count": 124,
   "metadata": {},
   "outputs": [
    {
     "name": "stdout",
     "output_type": "stream",
     "text": [
      "Highest score by Variance(alt)\n"
     ]
    },
    {
     "data": {
      "image/png": "[encoded data removed]",
      "text/plain": [
       "<Figure size 4500x300 with 15 Axes>"
      ]
     },
     "metadata": {},
     "output_type": "display_data"
    },
    {
     "name": "stdout",
     "output_type": "stream",
     "text": [
      "Lowest score by Variance(alt)\n"
     ]
    },
    {
     "data": {
      "image/png": "[encoded data removed]",
      "text/plain": [
       "<Figure size 4500x300 with 15 Axes>"
      ]
     },
     "metadata": {},
     "output_type": "display_data"
    }
   ],
   "source": [
    "plot_lh_obj( dataset1_0, latentMetric, VarianceMetric2, name = 'Variance(alt)' )"
   ]
  },
  {
   "cell_type": "code",
   "execution_count": 119,
   "metadata": {},
   "outputs": [
    {
     "name": "stdout",
     "output_type": "stream",
     "text": [
      "Highest score by Entropy\n"
     ]
    },
    {
     "data": {
      "image/png": "[encoded data removed]",
      "text/plain": [
       "<Figure size 4500x300 with 15 Axes>"
      ]
     },
     "metadata": {},
     "output_type": "display_data"
    },
    {
     "name": "stdout",
     "output_type": "stream",
     "text": [
      "Lowest score by Entropy\n"
     ]
    },
    {
     "data": {
      "image/png": "[encoded data removed]",
      "text/plain": [
       "<Figure size 4500x300 with 15 Axes>"
      ]
     },
     "metadata": {},
     "output_type": "display_data"
    }
   ],
   "source": [
    "plot_lh_obj( dataset1_0, labelMetric, UEntropyMetric, name = 'Entropy' )"
   ]
  },
  {
   "cell_type": "code",
   "execution_count": null,
   "metadata": {},
   "outputs": [],
   "source": []
  }
 ],
 "metadata": {
  "accelerator": "GPU",
  "colab": {
   "gpuType": "T4",
   "provenance": []
  },
  "kernelspec": {
   "display_name": "Python 3 (ipykernel)",
   "language": "python",
   "name": "python3"
  },
  "language_info": {
   "codemirror_mode": {
    "name": "ipython",
    "version": 3
   },
   "file_extension": ".py",
   "mimetype": "text/x-python",
   "name": "python",
   "nbconvert_exporter": "python",
   "pygments_lexer": "ipython3",
   "version": "3.10.13"
  },
  "widgets": {
   "application/vnd.jupyter.widget-state+json": {
    "009d01a6d9214a5d9a84aa22d160edb1": {
     "model_module": "@jupyter-widgets/controls",
     "model_module_version": "1.5.0",
     "model_name": "DescriptionStyleModel",
     "state": {
      "_model_module": "@jupyter-widgets/controls",
      "_model_module_version": "1.5.0",
      "_model_name": "DescriptionStyleModel",
      "_view_count": null,
      "_view_module": "@jupyter-widgets/base",
      "_view_module_version": "1.2.0",
      "_view_name": "StyleView",
      "description_width": ""
     }
    },
    "01b9e397aa2644fba9b88e7c14a3e84b": {
     "model_module": "@jupyter-widgets/controls",
     "model_module_version": "1.5.0",
     "model_name": "DescriptionStyleModel",
     "state": {
      "_model_module": "@jupyter-widgets/controls",
      "_model_module_version": "1.5.0",
      "_model_name": "DescriptionStyleModel",
      "_view_count": null,
      "_view_module": "@jupyter-widgets/base",
      "_view_module_version": "1.2.0",
      "_view_name": "StyleView",
      "description_width": ""
     }
    },
    "06126e9717f94d51bd6800b7f084be61": {
     "model_module": "@jupyter-widgets/controls",
     "model_module_version": "1.5.0",
     "model_name": "HBoxModel",
     "state": {
      "_dom_classes": [],
      "_model_module": "@jupyter-widgets/controls",
      "_model_module_version": "1.5.0",
      "_model_name": "HBoxModel",
      "_view_count": null,
      "_view_module": "@jupyter-widgets/controls",
      "_view_module_version": "1.5.0",
      "_view_name": "HBoxView",
      "box_style": "",
      "children": [
       "IPY_MODEL_dc1b403916b94d74b6bc64cfca533241",
       "IPY_MODEL_1193faf6a29c454da4c736269273e3ad",
       "IPY_MODEL_b25cc7e84f734fd692ddb7c1eeb1d58d"
      ],
      "layout": "IPY_MODEL_079b21e9bdee4e4f88a9d9cff5d551ba"
     }
    },
    "079b21e9bdee4e4f88a9d9cff5d551ba": {
     "model_module": "@jupyter-widgets/base",
     "model_module_version": "1.2.0",
     "model_name": "LayoutModel",
     "state": {
      "_model_module": "@jupyter-widgets/base",
      "_model_module_version": "1.2.0",
      "_model_name": "LayoutModel",
      "_view_count": null,
      "_view_module": "@jupyter-widgets/base",
      "_view_module_version": "1.2.0",
      "_view_name": "LayoutView",
      "align_content": null,
      "align_items": null,
      "align_self": null,
      "border": null,
      "bottom": null,
      "display": null,
      "flex": null,
      "flex_flow": null,
      "grid_area": null,
      "grid_auto_columns": null,
      "grid_auto_flow": null,
      "grid_auto_rows": null,
      "grid_column": null,
      "grid_gap": null,
      "grid_row": null,
      "grid_template_areas": null,
      "grid_template_columns": null,
      "grid_template_rows": null,
      "height": null,
      "justify_content": null,
      "justify_items": null,
      "left": null,
      "margin": null,
      "max_height": null,
      "max_width": null,
      "min_height": null,
      "min_width": null,
      "object_fit": null,
      "object_position": null,
      "order": null,
      "overflow": null,
      "overflow_x": null,
      "overflow_y": null,
      "padding": null,
      "right": null,
      "top": null,
      "visibility": null,
      "width": null
     }
    },
    "09510631f1f741949e3b83c9b3ed604d": {
     "model_module": "@jupyter-widgets/controls",
     "model_module_version": "1.5.0",
     "model_name": "HTMLModel",
     "state": {
      "_dom_classes": [],
      "_model_module": "@jupyter-widgets/controls",
      "_model_module_version": "1.5.0",
      "_model_name": "HTMLModel",
      "_view_count": null,
      "_view_module": "@jupyter-widgets/controls",
      "_view_module_version": "1.5.0",
      "_view_name": "HTMLView",
      "description": "",
      "description_tooltip": null,
      "layout": "IPY_MODEL_d45d72e4489941d78aa1cc92750f36b1",
      "placeholder": "​",
      "style": "IPY_MODEL_1f5d17bcdb2f4b97bf20de802556e6bc",
      "value": " 27/? [01:47&lt;00:00,  3.87s/it]"
     }
    },
    "0bb3a271a2954f49b3051635fb04bd7d": {
     "model_module": "@jupyter-widgets/controls",
     "model_module_version": "1.5.0",
     "model_name": "DescriptionStyleModel",
     "state": {
      "_model_module": "@jupyter-widgets/controls",
      "_model_module_version": "1.5.0",
      "_model_name": "DescriptionStyleModel",
      "_view_count": null,
      "_view_module": "@jupyter-widgets/base",
      "_view_module_version": "1.2.0",
      "_view_name": "StyleView",
      "description_width": ""
     }
    },
    "0d34d5931e9a4c4eac2e6142ddd50cf4": {
     "model_module": "@jupyter-widgets/base",
     "model_module_version": "1.2.0",
     "model_name": "LayoutModel",
     "state": {
      "_model_module": "@jupyter-widgets/base",
      "_model_module_version": "1.2.0",
      "_model_name": "LayoutModel",
      "_view_count": null,
      "_view_module": "@jupyter-widgets/base",
      "_view_module_version": "1.2.0",
      "_view_name": "LayoutView",
      "align_content": null,
      "align_items": null,
      "align_self": null,
      "border": null,
      "bottom": null,
      "display": null,
      "flex": null,
      "flex_flow": null,
      "grid_area": null,
      "grid_auto_columns": null,
      "grid_auto_flow": null,
      "grid_auto_rows": null,
      "grid_column": null,
      "grid_gap": null,
      "grid_row": null,
      "grid_template_areas": null,
      "grid_template_columns": null,
      "grid_template_rows": null,
      "height": null,
      "justify_content": null,
      "justify_items": null,
      "left": null,
      "margin": null,
      "max_height": null,
      "max_width": null,
      "min_height": null,
      "min_width": null,
      "object_fit": null,
      "object_position": null,
      "order": null,
      "overflow": null,
      "overflow_x": null,
      "overflow_y": null,
      "padding": null,
      "right": null,
      "top": null,
      "visibility": null,
      "width": null
     }
    },
    "0df2bf8fea684d61b423e183ee375849": {
     "model_module": "@jupyter-widgets/base",
     "model_module_version": "1.2.0",
     "model_name": "LayoutModel",
     "state": {
      "_model_module": "@jupyter-widgets/base",
      "_model_module_version": "1.2.0",
      "_model_name": "LayoutModel",
      "_view_count": null,
      "_view_module": "@jupyter-widgets/base",
      "_view_module_version": "1.2.0",
      "_view_name": "LayoutView",
      "align_content": null,
      "align_items": null,
      "align_self": null,
      "border": null,
      "bottom": null,
      "display": null,
      "flex": null,
      "flex_flow": null,
      "grid_area": null,
      "grid_auto_columns": null,
      "grid_auto_flow": null,
      "grid_auto_rows": null,
      "grid_column": null,
      "grid_gap": null,
      "grid_row": null,
      "grid_template_areas": null,
      "grid_template_columns": null,
      "grid_template_rows": null,
      "height": null,
      "justify_content": null,
      "justify_items": null,
      "left": null,
      "margin": null,
      "max_height": null,
      "max_width": null,
      "min_height": null,
      "min_width": null,
      "object_fit": null,
      "object_position": null,
      "order": null,
      "overflow": null,
      "overflow_x": null,
      "overflow_y": null,
      "padding": null,
      "right": null,
      "top": null,
      "visibility": null,
      "width": null
     }
    },
    "1193faf6a29c454da4c736269273e3ad": {
     "model_module": "@jupyter-widgets/controls",
     "model_module_version": "1.5.0",
     "model_name": "FloatProgressModel",
     "state": {
      "_dom_classes": [],
      "_model_module": "@jupyter-widgets/controls",
      "_model_module_version": "1.5.0",
      "_model_name": "FloatProgressModel",
      "_view_count": null,
      "_view_module": "@jupyter-widgets/controls",
      "_view_module_version": "1.5.0",
      "_view_name": "ProgressView",
      "bar_style": "success",
      "description": "",
      "description_tooltip": null,
      "layout": "IPY_MODEL_93eff32a073147bf99ce91310fbd53b1",
      "max": 1,
      "min": 0,
      "orientation": "horizontal",
      "style": "IPY_MODEL_890d58d4b11141abb5f24e65c1b5224d",
      "value": 1
     }
    },
    "14fca413adf842a98e1caf1f24da96fb": {
     "model_module": "@jupyter-widgets/controls",
     "model_module_version": "1.5.0",
     "model_name": "FloatProgressModel",
     "state": {
      "_dom_classes": [],
      "_model_module": "@jupyter-widgets/controls",
      "_model_module_version": "1.5.0",
      "_model_name": "FloatProgressModel",
      "_view_count": null,
      "_view_module": "@jupyter-widgets/controls",
      "_view_module_version": "1.5.0",
      "_view_name": "ProgressView",
      "bar_style": "success",
      "description": "",
      "description_tooltip": null,
      "layout": "IPY_MODEL_e606edcf62424d158477e2cf923ab84b",
      "max": 59,
      "min": 0,
      "orientation": "horizontal",
      "style": "IPY_MODEL_67438b62694545f8a0c130ddd37193cb",
      "value": 59
     }
    },
    "1e30545dd3c540f8a8a5c629a7add642": {
     "model_module": "@jupyter-widgets/controls",
     "model_module_version": "1.5.0",
     "model_name": "HBoxModel",
     "state": {
      "_dom_classes": [],
      "_model_module": "@jupyter-widgets/controls",
      "_model_module_version": "1.5.0",
      "_model_name": "HBoxModel",
      "_view_count": null,
      "_view_module": "@jupyter-widgets/controls",
      "_view_module_version": "1.5.0",
      "_view_name": "HBoxView",
      "box_style": "",
      "children": [
       "IPY_MODEL_fcd67485b1b045cb8e468e460cb4cda0",
       "IPY_MODEL_2df7d0fe915a45769195b787cbf36ab1",
       "IPY_MODEL_2becfdf29ede41eea15b9373e96e93d4"
      ],
      "layout": "IPY_MODEL_f6d124ad99c24f12a791683752a4f20e"
     }
    },
    "1f1e7b971bf8421b8ddc31327f2a470f": {
     "model_module": "@jupyter-widgets/base",
     "model_module_version": "1.2.0",
     "model_name": "LayoutModel",
     "state": {
      "_model_module": "@jupyter-widgets/base",
      "_model_module_version": "1.2.0",
      "_model_name": "LayoutModel",
      "_view_count": null,
      "_view_module": "@jupyter-widgets/base",
      "_view_module_version": "1.2.0",
      "_view_name": "LayoutView",
      "align_content": null,
      "align_items": null,
      "align_self": null,
      "border": null,
      "bottom": null,
      "display": null,
      "flex": null,
      "flex_flow": null,
      "grid_area": null,
      "grid_auto_columns": null,
      "grid_auto_flow": null,
      "grid_auto_rows": null,
      "grid_column": null,
      "grid_gap": null,
      "grid_row": null,
      "grid_template_areas": null,
      "grid_template_columns": null,
      "grid_template_rows": null,
      "height": null,
      "justify_content": null,
      "justify_items": null,
      "left": null,
      "margin": null,
      "max_height": null,
      "max_width": null,
      "min_height": null,
      "min_width": null,
      "object_fit": null,
      "object_position": null,
      "order": null,
      "overflow": null,
      "overflow_x": null,
      "overflow_y": null,
      "padding": null,
      "right": null,
      "top": null,
      "visibility": null,
      "width": null
     }
    },
    "1f5d17bcdb2f4b97bf20de802556e6bc": {
     "model_module": "@jupyter-widgets/controls",
     "model_module_version": "1.5.0",
     "model_name": "DescriptionStyleModel",
     "state": {
      "_model_module": "@jupyter-widgets/controls",
      "_model_module_version": "1.5.0",
      "_model_name": "DescriptionStyleModel",
      "_view_count": null,
      "_view_module": "@jupyter-widgets/base",
      "_view_module_version": "1.2.0",
      "_view_name": "StyleView",
      "description_width": ""
     }
    },
    "21b88d88ac7d406292bd39ca72db1154": {
     "model_module": "@jupyter-widgets/controls",
     "model_module_version": "1.5.0",
     "model_name": "DescriptionStyleModel",
     "state": {
      "_model_module": "@jupyter-widgets/controls",
      "_model_module_version": "1.5.0",
      "_model_name": "DescriptionStyleModel",
      "_view_count": null,
      "_view_module": "@jupyter-widgets/base",
      "_view_module_version": "1.2.0",
      "_view_name": "StyleView",
      "description_width": ""
     }
    },
    "2254dee3ba584c6bb0ea5727e939729a": {
     "model_module": "@jupyter-widgets/base",
     "model_module_version": "1.2.0",
     "model_name": "LayoutModel",
     "state": {
      "_model_module": "@jupyter-widgets/base",
      "_model_module_version": "1.2.0",
      "_model_name": "LayoutModel",
      "_view_count": null,
      "_view_module": "@jupyter-widgets/base",
      "_view_module_version": "1.2.0",
      "_view_name": "LayoutView",
      "align_content": null,
      "align_items": null,
      "align_self": null,
      "border": null,
      "bottom": null,
      "display": null,
      "flex": null,
      "flex_flow": null,
      "grid_area": null,
      "grid_auto_columns": null,
      "grid_auto_flow": null,
      "grid_auto_rows": null,
      "grid_column": null,
      "grid_gap": null,
      "grid_row": null,
      "grid_template_areas": null,
      "grid_template_columns": null,
      "grid_template_rows": null,
      "height": null,
      "justify_content": null,
      "justify_items": null,
      "left": null,
      "margin": null,
      "max_height": null,
      "max_width": null,
      "min_height": null,
      "min_width": null,
      "object_fit": null,
      "object_position": null,
      "order": null,
      "overflow": null,
      "overflow_x": null,
      "overflow_y": null,
      "padding": null,
      "right": null,
      "top": null,
      "visibility": null,
      "width": null
     }
    },
    "2a8e42e8025f41d6951a12e7e8b5ad74": {
     "model_module": "@jupyter-widgets/controls",
     "model_module_version": "1.5.0",
     "model_name": "HTMLModel",
     "state": {
      "_dom_classes": [],
      "_model_module": "@jupyter-widgets/controls",
      "_model_module_version": "1.5.0",
      "_model_name": "HTMLModel",
      "_view_count": null,
      "_view_module": "@jupyter-widgets/controls",
      "_view_module_version": "1.5.0",
      "_view_name": "HTMLView",
      "description": "",
      "description_tooltip": null,
      "layout": "IPY_MODEL_d41480828d6748efba3145332ab7c2aa",
      "placeholder": "​",
      "style": "IPY_MODEL_65ed60395cf84f17bd35c821264b42a6",
      "value": "Loss 0.6831058859825134: "
     }
    },
    "2becfdf29ede41eea15b9373e96e93d4": {
     "model_module": "@jupyter-widgets/controls",
     "model_module_version": "1.5.0",
     "model_name": "HTMLModel",
     "state": {
      "_dom_classes": [],
      "_model_module": "@jupyter-widgets/controls",
      "_model_module_version": "1.5.0",
      "_model_name": "HTMLModel",
      "_view_count": null,
      "_view_module": "@jupyter-widgets/controls",
      "_view_module_version": "1.5.0",
      "_view_name": "HTMLView",
      "description": "",
      "description_tooltip": null,
      "layout": "IPY_MODEL_3aa5252edf954519b1d2ab44248b96e3",
      "placeholder": "​",
      "style": "IPY_MODEL_60277db5c1c74beeb0ea152466495a11",
      "value": " 59/? [03:40&lt;00:00,  3.20s/it]"
     }
    },
    "2dbf43333f7e418387d74fbc12e24254": {
     "model_module": "@jupyter-widgets/controls",
     "model_module_version": "1.5.0",
     "model_name": "ProgressStyleModel",
     "state": {
      "_model_module": "@jupyter-widgets/controls",
      "_model_module_version": "1.5.0",
      "_model_name": "ProgressStyleModel",
      "_view_count": null,
      "_view_module": "@jupyter-widgets/base",
      "_view_module_version": "1.2.0",
      "_view_name": "StyleView",
      "bar_color": null,
      "description_width": ""
     }
    },
    "2df7d0fe915a45769195b787cbf36ab1": {
     "model_module": "@jupyter-widgets/controls",
     "model_module_version": "1.5.0",
     "model_name": "FloatProgressModel",
     "state": {
      "_dom_classes": [],
      "_model_module": "@jupyter-widgets/controls",
      "_model_module_version": "1.5.0",
      "_model_name": "FloatProgressModel",
      "_view_count": null,
      "_view_module": "@jupyter-widgets/controls",
      "_view_module_version": "1.5.0",
      "_view_name": "ProgressView",
      "bar_style": "success",
      "description": "",
      "description_tooltip": null,
      "layout": "IPY_MODEL_7be7ff335bb640d9ac1a2190404558f9",
      "max": 1,
      "min": 0,
      "orientation": "horizontal",
      "style": "IPY_MODEL_757f85157c81483aae3a0f6d07962c09",
      "value": 1
     }
    },
    "3aa5252edf954519b1d2ab44248b96e3": {
     "model_module": "@jupyter-widgets/base",
     "model_module_version": "1.2.0",
     "model_name": "LayoutModel",
     "state": {
      "_model_module": "@jupyter-widgets/base",
      "_model_module_version": "1.2.0",
      "_model_name": "LayoutModel",
      "_view_count": null,
      "_view_module": "@jupyter-widgets/base",
      "_view_module_version": "1.2.0",
      "_view_name": "LayoutView",
      "align_content": null,
      "align_items": null,
      "align_self": null,
      "border": null,
      "bottom": null,
      "display": null,
      "flex": null,
      "flex_flow": null,
      "grid_area": null,
      "grid_auto_columns": null,
      "grid_auto_flow": null,
      "grid_auto_rows": null,
      "grid_column": null,
      "grid_gap": null,
      "grid_row": null,
      "grid_template_areas": null,
      "grid_template_columns": null,
      "grid_template_rows": null,
      "height": null,
      "justify_content": null,
      "justify_items": null,
      "left": null,
      "margin": null,
      "max_height": null,
      "max_width": null,
      "min_height": null,
      "min_width": null,
      "object_fit": null,
      "object_position": null,
      "order": null,
      "overflow": null,
      "overflow_x": null,
      "overflow_y": null,
      "padding": null,
      "right": null,
      "top": null,
      "visibility": null,
      "width": null
     }
    },
    "3e844c9aad59485db1961adc586ed015": {
     "model_module": "@jupyter-widgets/base",
     "model_module_version": "1.2.0",
     "model_name": "LayoutModel",
     "state": {
      "_model_module": "@jupyter-widgets/base",
      "_model_module_version": "1.2.0",
      "_model_name": "LayoutModel",
      "_view_count": null,
      "_view_module": "@jupyter-widgets/base",
      "_view_module_version": "1.2.0",
      "_view_name": "LayoutView",
      "align_content": null,
      "align_items": null,
      "align_self": null,
      "border": null,
      "bottom": null,
      "display": null,
      "flex": null,
      "flex_flow": null,
      "grid_area": null,
      "grid_auto_columns": null,
      "grid_auto_flow": null,
      "grid_auto_rows": null,
      "grid_column": null,
      "grid_gap": null,
      "grid_row": null,
      "grid_template_areas": null,
      "grid_template_columns": null,
      "grid_template_rows": null,
      "height": null,
      "justify_content": null,
      "justify_items": null,
      "left": null,
      "margin": null,
      "max_height": null,
      "max_width": null,
      "min_height": null,
      "min_width": null,
      "object_fit": null,
      "object_position": null,
      "order": null,
      "overflow": null,
      "overflow_x": null,
      "overflow_y": null,
      "padding": null,
      "right": null,
      "top": null,
      "visibility": null,
      "width": "20px"
     }
    },
    "44be846a9d3746eb82fdd1c5270115b7": {
     "model_module": "@jupyter-widgets/controls",
     "model_module_version": "1.5.0",
     "model_name": "HTMLModel",
     "state": {
      "_dom_classes": [],
      "_model_module": "@jupyter-widgets/controls",
      "_model_module_version": "1.5.0",
      "_model_name": "HTMLModel",
      "_view_count": null,
      "_view_module": "@jupyter-widgets/controls",
      "_view_module_version": "1.5.0",
      "_view_name": "HTMLView",
      "description": "",
      "description_tooltip": null,
      "layout": "IPY_MODEL_7f6f09d2329f4406afc31f7346d57166",
      "placeholder": "​",
      "style": "IPY_MODEL_009d01a6d9214a5d9a84aa22d160edb1",
      "value": " 59/59 [03:09&lt;00:00,  3.05s/it]"
     }
    },
    "46f05deb9a7d473cb192658f83cedee9": {
     "model_module": "@jupyter-widgets/controls",
     "model_module_version": "1.5.0",
     "model_name": "HTMLModel",
     "state": {
      "_dom_classes": [],
      "_model_module": "@jupyter-widgets/controls",
      "_model_module_version": "1.5.0",
      "_model_name": "HTMLModel",
      "_view_count": null,
      "_view_module": "@jupyter-widgets/controls",
      "_view_module_version": "1.5.0",
      "_view_name": "HTMLView",
      "description": "",
      "description_tooltip": null,
      "layout": "IPY_MODEL_50add5734bf04010bcc6f00edb14e16c",
      "placeholder": "​",
      "style": "IPY_MODEL_a76c6aeb74d64c2b84eebb3f2ef583fc",
      "value": "100%"
     }
    },
    "50add5734bf04010bcc6f00edb14e16c": {
     "model_module": "@jupyter-widgets/base",
     "model_module_version": "1.2.0",
     "model_name": "LayoutModel",
     "state": {
      "_model_module": "@jupyter-widgets/base",
      "_model_module_version": "1.2.0",
      "_model_name": "LayoutModel",
      "_view_count": null,
      "_view_module": "@jupyter-widgets/base",
      "_view_module_version": "1.2.0",
      "_view_name": "LayoutView",
      "align_content": null,
      "align_items": null,
      "align_self": null,
      "border": null,
      "bottom": null,
      "display": null,
      "flex": null,
      "flex_flow": null,
      "grid_area": null,
      "grid_auto_columns": null,
      "grid_auto_flow": null,
      "grid_auto_rows": null,
      "grid_column": null,
      "grid_gap": null,
      "grid_row": null,
      "grid_template_areas": null,
      "grid_template_columns": null,
      "grid_template_rows": null,
      "height": null,
      "justify_content": null,
      "justify_items": null,
      "left": null,
      "margin": null,
      "max_height": null,
      "max_width": null,
      "min_height": null,
      "min_width": null,
      "object_fit": null,
      "object_position": null,
      "order": null,
      "overflow": null,
      "overflow_x": null,
      "overflow_y": null,
      "padding": null,
      "right": null,
      "top": null,
      "visibility": null,
      "width": null
     }
    },
    "51a965c0f6444eb89f8d166139eb5815": {
     "model_module": "@jupyter-widgets/base",
     "model_module_version": "1.2.0",
     "model_name": "LayoutModel",
     "state": {
      "_model_module": "@jupyter-widgets/base",
      "_model_module_version": "1.2.0",
      "_model_name": "LayoutModel",
      "_view_count": null,
      "_view_module": "@jupyter-widgets/base",
      "_view_module_version": "1.2.0",
      "_view_name": "LayoutView",
      "align_content": null,
      "align_items": null,
      "align_self": null,
      "border": null,
      "bottom": null,
      "display": null,
      "flex": null,
      "flex_flow": null,
      "grid_area": null,
      "grid_auto_columns": null,
      "grid_auto_flow": null,
      "grid_auto_rows": null,
      "grid_column": null,
      "grid_gap": null,
      "grid_row": null,
      "grid_template_areas": null,
      "grid_template_columns": null,
      "grid_template_rows": null,
      "height": null,
      "justify_content": null,
      "justify_items": null,
      "left": null,
      "margin": null,
      "max_height": null,
      "max_width": null,
      "min_height": null,
      "min_width": null,
      "object_fit": null,
      "object_position": null,
      "order": null,
      "overflow": null,
      "overflow_x": null,
      "overflow_y": null,
      "padding": null,
      "right": null,
      "top": null,
      "visibility": null,
      "width": null
     }
    },
    "5792e0690dff4bfd9e71f67d32855966": {
     "model_module": "@jupyter-widgets/controls",
     "model_module_version": "1.5.0",
     "model_name": "HBoxModel",
     "state": {
      "_dom_classes": [],
      "_model_module": "@jupyter-widgets/controls",
      "_model_module_version": "1.5.0",
      "_model_name": "HBoxModel",
      "_view_count": null,
      "_view_module": "@jupyter-widgets/controls",
      "_view_module_version": "1.5.0",
      "_view_name": "HBoxView",
      "box_style": "",
      "children": [
       "IPY_MODEL_e0720ae206474994a56936b221a63e5f",
       "IPY_MODEL_b20b9ec0d0a5442a83f410d80c72a710",
       "IPY_MODEL_60a3dddf169e4910a3ad840b491344d0"
      ],
      "layout": "IPY_MODEL_bac67486131946b5810346a275d8befd"
     }
    },
    "57b32943e5ab4678bb9b8af559f6c02e": {
     "model_module": "@jupyter-widgets/controls",
     "model_module_version": "1.5.0",
     "model_name": "FloatProgressModel",
     "state": {
      "_dom_classes": [],
      "_model_module": "@jupyter-widgets/controls",
      "_model_module_version": "1.5.0",
      "_model_name": "FloatProgressModel",
      "_view_count": null,
      "_view_module": "@jupyter-widgets/controls",
      "_view_module_version": "1.5.0",
      "_view_name": "ProgressView",
      "bar_style": "success",
      "description": "",
      "description_tooltip": null,
      "layout": "IPY_MODEL_1f1e7b971bf8421b8ddc31327f2a470f",
      "max": 59,
      "min": 0,
      "orientation": "horizontal",
      "style": "IPY_MODEL_7aab86b18c4d48e2bc2e9e3fcda61655",
      "value": 59
     }
    },
    "58d201196ed042b2b33d9f2410eb0f8b": {
     "model_module": "@jupyter-widgets/base",
     "model_module_version": "1.2.0",
     "model_name": "LayoutModel",
     "state": {
      "_model_module": "@jupyter-widgets/base",
      "_model_module_version": "1.2.0",
      "_model_name": "LayoutModel",
      "_view_count": null,
      "_view_module": "@jupyter-widgets/base",
      "_view_module_version": "1.2.0",
      "_view_name": "LayoutView",
      "align_content": null,
      "align_items": null,
      "align_self": null,
      "border": null,
      "bottom": null,
      "display": null,
      "flex": null,
      "flex_flow": null,
      "grid_area": null,
      "grid_auto_columns": null,
      "grid_auto_flow": null,
      "grid_auto_rows": null,
      "grid_column": null,
      "grid_gap": null,
      "grid_row": null,
      "grid_template_areas": null,
      "grid_template_columns": null,
      "grid_template_rows": null,
      "height": null,
      "justify_content": null,
      "justify_items": null,
      "left": null,
      "margin": null,
      "max_height": null,
      "max_width": null,
      "min_height": null,
      "min_width": null,
      "object_fit": null,
      "object_position": null,
      "order": null,
      "overflow": null,
      "overflow_x": null,
      "overflow_y": null,
      "padding": null,
      "right": null,
      "top": null,
      "visibility": null,
      "width": null
     }
    },
    "5e70443d87b947589726363c92650abf": {
     "model_module": "@jupyter-widgets/controls",
     "model_module_version": "1.5.0",
     "model_name": "HBoxModel",
     "state": {
      "_dom_classes": [],
      "_model_module": "@jupyter-widgets/controls",
      "_model_module_version": "1.5.0",
      "_model_name": "HBoxModel",
      "_view_count": null,
      "_view_module": "@jupyter-widgets/controls",
      "_view_module_version": "1.5.0",
      "_view_name": "HBoxView",
      "box_style": "",
      "children": [
       "IPY_MODEL_b3aa637b5a2e4c55bba3d569b3d19e77",
       "IPY_MODEL_57b32943e5ab4678bb9b8af559f6c02e",
       "IPY_MODEL_44be846a9d3746eb82fdd1c5270115b7"
      ],
      "layout": "IPY_MODEL_0d34d5931e9a4c4eac2e6142ddd50cf4"
     }
    },
    "60277db5c1c74beeb0ea152466495a11": {
     "model_module": "@jupyter-widgets/controls",
     "model_module_version": "1.5.0",
     "model_name": "DescriptionStyleModel",
     "state": {
      "_model_module": "@jupyter-widgets/controls",
      "_model_module_version": "1.5.0",
      "_model_name": "DescriptionStyleModel",
      "_view_count": null,
      "_view_module": "@jupyter-widgets/base",
      "_view_module_version": "1.2.0",
      "_view_name": "StyleView",
      "description_width": ""
     }
    },
    "60a3dddf169e4910a3ad840b491344d0": {
     "model_module": "@jupyter-widgets/controls",
     "model_module_version": "1.5.0",
     "model_name": "HTMLModel",
     "state": {
      "_dom_classes": [],
      "_model_module": "@jupyter-widgets/controls",
      "_model_module_version": "1.5.0",
      "_model_name": "HTMLModel",
      "_view_count": null,
      "_view_module": "@jupyter-widgets/controls",
      "_view_module_version": "1.5.0",
      "_view_name": "HTMLView",
      "description": "",
      "description_tooltip": null,
      "layout": "IPY_MODEL_a6629cc259ba4243953b1488ca21ee64",
      "placeholder": "​",
      "style": "IPY_MODEL_0bb3a271a2954f49b3051635fb04bd7d",
      "value": " 2/10 [16:22&lt;58:34, 439.34s/it]"
     }
    },
    "6389618629934fa797c0ce210e0abc94": {
     "model_module": "@jupyter-widgets/controls",
     "model_module_version": "1.5.0",
     "model_name": "HBoxModel",
     "state": {
      "_dom_classes": [],
      "_model_module": "@jupyter-widgets/controls",
      "_model_module_version": "1.5.0",
      "_model_name": "HBoxModel",
      "_view_count": null,
      "_view_module": "@jupyter-widgets/controls",
      "_view_module_version": "1.5.0",
      "_view_name": "HBoxView",
      "box_style": "",
      "children": [
       "IPY_MODEL_46f05deb9a7d473cb192658f83cedee9",
       "IPY_MODEL_14fca413adf842a98e1caf1f24da96fb",
       "IPY_MODEL_b0ceb54fa97e4c219ab1af0b662d6a70"
      ],
      "layout": "IPY_MODEL_bf48ad05a10c4d9da482f620f17294d8"
     }
    },
    "65ed60395cf84f17bd35c821264b42a6": {
     "model_module": "@jupyter-widgets/controls",
     "model_module_version": "1.5.0",
     "model_name": "DescriptionStyleModel",
     "state": {
      "_model_module": "@jupyter-widgets/controls",
      "_model_module_version": "1.5.0",
      "_model_name": "DescriptionStyleModel",
      "_view_count": null,
      "_view_module": "@jupyter-widgets/base",
      "_view_module_version": "1.2.0",
      "_view_name": "StyleView",
      "description_width": ""
     }
    },
    "67438b62694545f8a0c130ddd37193cb": {
     "model_module": "@jupyter-widgets/controls",
     "model_module_version": "1.5.0",
     "model_name": "ProgressStyleModel",
     "state": {
      "_model_module": "@jupyter-widgets/controls",
      "_model_module_version": "1.5.0",
      "_model_name": "ProgressStyleModel",
      "_view_count": null,
      "_view_module": "@jupyter-widgets/base",
      "_view_module_version": "1.2.0",
      "_view_name": "StyleView",
      "bar_color": null,
      "description_width": ""
     }
    },
    "757f85157c81483aae3a0f6d07962c09": {
     "model_module": "@jupyter-widgets/controls",
     "model_module_version": "1.5.0",
     "model_name": "ProgressStyleModel",
     "state": {
      "_model_module": "@jupyter-widgets/controls",
      "_model_module_version": "1.5.0",
      "_model_name": "ProgressStyleModel",
      "_view_count": null,
      "_view_module": "@jupyter-widgets/base",
      "_view_module_version": "1.2.0",
      "_view_name": "StyleView",
      "bar_color": null,
      "description_width": ""
     }
    },
    "7aab86b18c4d48e2bc2e9e3fcda61655": {
     "model_module": "@jupyter-widgets/controls",
     "model_module_version": "1.5.0",
     "model_name": "ProgressStyleModel",
     "state": {
      "_model_module": "@jupyter-widgets/controls",
      "_model_module_version": "1.5.0",
      "_model_name": "ProgressStyleModel",
      "_view_count": null,
      "_view_module": "@jupyter-widgets/base",
      "_view_module_version": "1.2.0",
      "_view_name": "StyleView",
      "bar_color": null,
      "description_width": ""
     }
    },
    "7bdab1fe6ba448ea90089a14870348f7": {
     "model_module": "@jupyter-widgets/controls",
     "model_module_version": "1.5.0",
     "model_name": "ProgressStyleModel",
     "state": {
      "_model_module": "@jupyter-widgets/controls",
      "_model_module_version": "1.5.0",
      "_model_name": "ProgressStyleModel",
      "_view_count": null,
      "_view_module": "@jupyter-widgets/base",
      "_view_module_version": "1.2.0",
      "_view_name": "StyleView",
      "bar_color": null,
      "description_width": ""
     }
    },
    "7be7ff335bb640d9ac1a2190404558f9": {
     "model_module": "@jupyter-widgets/base",
     "model_module_version": "1.2.0",
     "model_name": "LayoutModel",
     "state": {
      "_model_module": "@jupyter-widgets/base",
      "_model_module_version": "1.2.0",
      "_model_name": "LayoutModel",
      "_view_count": null,
      "_view_module": "@jupyter-widgets/base",
      "_view_module_version": "1.2.0",
      "_view_name": "LayoutView",
      "align_content": null,
      "align_items": null,
      "align_self": null,
      "border": null,
      "bottom": null,
      "display": null,
      "flex": null,
      "flex_flow": null,
      "grid_area": null,
      "grid_auto_columns": null,
      "grid_auto_flow": null,
      "grid_auto_rows": null,
      "grid_column": null,
      "grid_gap": null,
      "grid_row": null,
      "grid_template_areas": null,
      "grid_template_columns": null,
      "grid_template_rows": null,
      "height": null,
      "justify_content": null,
      "justify_items": null,
      "left": null,
      "margin": null,
      "max_height": null,
      "max_width": null,
      "min_height": null,
      "min_width": null,
      "object_fit": null,
      "object_position": null,
      "order": null,
      "overflow": null,
      "overflow_x": null,
      "overflow_y": null,
      "padding": null,
      "right": null,
      "top": null,
      "visibility": null,
      "width": "20px"
     }
    },
    "7f6f09d2329f4406afc31f7346d57166": {
     "model_module": "@jupyter-widgets/base",
     "model_module_version": "1.2.0",
     "model_name": "LayoutModel",
     "state": {
      "_model_module": "@jupyter-widgets/base",
      "_model_module_version": "1.2.0",
      "_model_name": "LayoutModel",
      "_view_count": null,
      "_view_module": "@jupyter-widgets/base",
      "_view_module_version": "1.2.0",
      "_view_name": "LayoutView",
      "align_content": null,
      "align_items": null,
      "align_self": null,
      "border": null,
      "bottom": null,
      "display": null,
      "flex": null,
      "flex_flow": null,
      "grid_area": null,
      "grid_auto_columns": null,
      "grid_auto_flow": null,
      "grid_auto_rows": null,
      "grid_column": null,
      "grid_gap": null,
      "grid_row": null,
      "grid_template_areas": null,
      "grid_template_columns": null,
      "grid_template_rows": null,
      "height": null,
      "justify_content": null,
      "justify_items": null,
      "left": null,
      "margin": null,
      "max_height": null,
      "max_width": null,
      "min_height": null,
      "min_width": null,
      "object_fit": null,
      "object_position": null,
      "order": null,
      "overflow": null,
      "overflow_x": null,
      "overflow_y": null,
      "padding": null,
      "right": null,
      "top": null,
      "visibility": null,
      "width": null
     }
    },
    "890d58d4b11141abb5f24e65c1b5224d": {
     "model_module": "@jupyter-widgets/controls",
     "model_module_version": "1.5.0",
     "model_name": "ProgressStyleModel",
     "state": {
      "_model_module": "@jupyter-widgets/controls",
      "_model_module_version": "1.5.0",
      "_model_name": "ProgressStyleModel",
      "_view_count": null,
      "_view_module": "@jupyter-widgets/base",
      "_view_module_version": "1.2.0",
      "_view_name": "StyleView",
      "bar_color": null,
      "description_width": ""
     }
    },
    "93eff32a073147bf99ce91310fbd53b1": {
     "model_module": "@jupyter-widgets/base",
     "model_module_version": "1.2.0",
     "model_name": "LayoutModel",
     "state": {
      "_model_module": "@jupyter-widgets/base",
      "_model_module_version": "1.2.0",
      "_model_name": "LayoutModel",
      "_view_count": null,
      "_view_module": "@jupyter-widgets/base",
      "_view_module_version": "1.2.0",
      "_view_name": "LayoutView",
      "align_content": null,
      "align_items": null,
      "align_self": null,
      "border": null,
      "bottom": null,
      "display": null,
      "flex": null,
      "flex_flow": null,
      "grid_area": null,
      "grid_auto_columns": null,
      "grid_auto_flow": null,
      "grid_auto_rows": null,
      "grid_column": null,
      "grid_gap": null,
      "grid_row": null,
      "grid_template_areas": null,
      "grid_template_columns": null,
      "grid_template_rows": null,
      "height": null,
      "justify_content": null,
      "justify_items": null,
      "left": null,
      "margin": null,
      "max_height": null,
      "max_width": null,
      "min_height": null,
      "min_width": null,
      "object_fit": null,
      "object_position": null,
      "order": null,
      "overflow": null,
      "overflow_x": null,
      "overflow_y": null,
      "padding": null,
      "right": null,
      "top": null,
      "visibility": null,
      "width": "20px"
     }
    },
    "9e3f172baa294543a8ab7e3a8d4909ec": {
     "model_module": "@jupyter-widgets/controls",
     "model_module_version": "1.5.0",
     "model_name": "DescriptionStyleModel",
     "state": {
      "_model_module": "@jupyter-widgets/controls",
      "_model_module_version": "1.5.0",
      "_model_name": "DescriptionStyleModel",
      "_view_count": null,
      "_view_module": "@jupyter-widgets/base",
      "_view_module_version": "1.2.0",
      "_view_name": "StyleView",
      "description_width": ""
     }
    },
    "a6629cc259ba4243953b1488ca21ee64": {
     "model_module": "@jupyter-widgets/base",
     "model_module_version": "1.2.0",
     "model_name": "LayoutModel",
     "state": {
      "_model_module": "@jupyter-widgets/base",
      "_model_module_version": "1.2.0",
      "_model_name": "LayoutModel",
      "_view_count": null,
      "_view_module": "@jupyter-widgets/base",
      "_view_module_version": "1.2.0",
      "_view_name": "LayoutView",
      "align_content": null,
      "align_items": null,
      "align_self": null,
      "border": null,
      "bottom": null,
      "display": null,
      "flex": null,
      "flex_flow": null,
      "grid_area": null,
      "grid_auto_columns": null,
      "grid_auto_flow": null,
      "grid_auto_rows": null,
      "grid_column": null,
      "grid_gap": null,
      "grid_row": null,
      "grid_template_areas": null,
      "grid_template_columns": null,
      "grid_template_rows": null,
      "height": null,
      "justify_content": null,
      "justify_items": null,
      "left": null,
      "margin": null,
      "max_height": null,
      "max_width": null,
      "min_height": null,
      "min_width": null,
      "object_fit": null,
      "object_position": null,
      "order": null,
      "overflow": null,
      "overflow_x": null,
      "overflow_y": null,
      "padding": null,
      "right": null,
      "top": null,
      "visibility": null,
      "width": null
     }
    },
    "a76c6aeb74d64c2b84eebb3f2ef583fc": {
     "model_module": "@jupyter-widgets/controls",
     "model_module_version": "1.5.0",
     "model_name": "DescriptionStyleModel",
     "state": {
      "_model_module": "@jupyter-widgets/controls",
      "_model_module_version": "1.5.0",
      "_model_name": "DescriptionStyleModel",
      "_view_count": null,
      "_view_module": "@jupyter-widgets/base",
      "_view_module_version": "1.2.0",
      "_view_name": "StyleView",
      "description_width": ""
     }
    },
    "b0ceb54fa97e4c219ab1af0b662d6a70": {
     "model_module": "@jupyter-widgets/controls",
     "model_module_version": "1.5.0",
     "model_name": "HTMLModel",
     "state": {
      "_dom_classes": [],
      "_model_module": "@jupyter-widgets/controls",
      "_model_module_version": "1.5.0",
      "_model_name": "HTMLModel",
      "_view_count": null,
      "_view_module": "@jupyter-widgets/controls",
      "_view_module_version": "1.5.0",
      "_view_name": "HTMLView",
      "description": "",
      "description_tooltip": null,
      "layout": "IPY_MODEL_bdcb3ca3d7364d5cb0a308a78e2bcf9a",
      "placeholder": "​",
      "style": "IPY_MODEL_e32ecbb812d04c2fb105f89fcbb3d593",
      "value": " 59/59 [03:16&lt;00:00,  3.00s/it]"
     }
    },
    "b20b9ec0d0a5442a83f410d80c72a710": {
     "model_module": "@jupyter-widgets/controls",
     "model_module_version": "1.5.0",
     "model_name": "FloatProgressModel",
     "state": {
      "_dom_classes": [],
      "_model_module": "@jupyter-widgets/controls",
      "_model_module_version": "1.5.0",
      "_model_name": "FloatProgressModel",
      "_view_count": null,
      "_view_module": "@jupyter-widgets/controls",
      "_view_module_version": "1.5.0",
      "_view_name": "ProgressView",
      "bar_style": "danger",
      "description": "",
      "description_tooltip": null,
      "layout": "IPY_MODEL_c09764e79f204d5cb49944d554ebf695",
      "max": 10,
      "min": 0,
      "orientation": "horizontal",
      "style": "IPY_MODEL_2dbf43333f7e418387d74fbc12e24254",
      "value": 2
     }
    },
    "b25cc7e84f734fd692ddb7c1eeb1d58d": {
     "model_module": "@jupyter-widgets/controls",
     "model_module_version": "1.5.0",
     "model_name": "HTMLModel",
     "state": {
      "_dom_classes": [],
      "_model_module": "@jupyter-widgets/controls",
      "_model_module_version": "1.5.0",
      "_model_name": "HTMLModel",
      "_view_count": null,
      "_view_module": "@jupyter-widgets/controls",
      "_view_module_version": "1.5.0",
      "_view_name": "HTMLView",
      "description": "",
      "description_tooltip": null,
      "layout": "IPY_MODEL_0df2bf8fea684d61b423e183ee375849",
      "placeholder": "​",
      "style": "IPY_MODEL_9e3f172baa294543a8ab7e3a8d4909ec",
      "value": " 59/? [03:56&lt;00:00,  4.08s/it]"
     }
    },
    "b3aa637b5a2e4c55bba3d569b3d19e77": {
     "model_module": "@jupyter-widgets/controls",
     "model_module_version": "1.5.0",
     "model_name": "HTMLModel",
     "state": {
      "_dom_classes": [],
      "_model_module": "@jupyter-widgets/controls",
      "_model_module_version": "1.5.0",
      "_model_name": "HTMLModel",
      "_view_count": null,
      "_view_module": "@jupyter-widgets/controls",
      "_view_module_version": "1.5.0",
      "_view_name": "HTMLView",
      "description": "",
      "description_tooltip": null,
      "layout": "IPY_MODEL_51a965c0f6444eb89f8d166139eb5815",
      "placeholder": "​",
      "style": "IPY_MODEL_01b9e397aa2644fba9b88e7c14a3e84b",
      "value": "100%"
     }
    },
    "bac67486131946b5810346a275d8befd": {
     "model_module": "@jupyter-widgets/base",
     "model_module_version": "1.2.0",
     "model_name": "LayoutModel",
     "state": {
      "_model_module": "@jupyter-widgets/base",
      "_model_module_version": "1.2.0",
      "_model_name": "LayoutModel",
      "_view_count": null,
      "_view_module": "@jupyter-widgets/base",
      "_view_module_version": "1.2.0",
      "_view_name": "LayoutView",
      "align_content": null,
      "align_items": null,
      "align_self": null,
      "border": null,
      "bottom": null,
      "display": null,
      "flex": null,
      "flex_flow": null,
      "grid_area": null,
      "grid_auto_columns": null,
      "grid_auto_flow": null,
      "grid_auto_rows": null,
      "grid_column": null,
      "grid_gap": null,
      "grid_row": null,
      "grid_template_areas": null,
      "grid_template_columns": null,
      "grid_template_rows": null,
      "height": null,
      "justify_content": null,
      "justify_items": null,
      "left": null,
      "margin": null,
      "max_height": null,
      "max_width": null,
      "min_height": null,
      "min_width": null,
      "object_fit": null,
      "object_position": null,
      "order": null,
      "overflow": null,
      "overflow_x": null,
      "overflow_y": null,
      "padding": null,
      "right": null,
      "top": null,
      "visibility": null,
      "width": null
     }
    },
    "bdcb3ca3d7364d5cb0a308a78e2bcf9a": {
     "model_module": "@jupyter-widgets/base",
     "model_module_version": "1.2.0",
     "model_name": "LayoutModel",
     "state": {
      "_model_module": "@jupyter-widgets/base",
      "_model_module_version": "1.2.0",
      "_model_name": "LayoutModel",
      "_view_count": null,
      "_view_module": "@jupyter-widgets/base",
      "_view_module_version": "1.2.0",
      "_view_name": "LayoutView",
      "align_content": null,
      "align_items": null,
      "align_self": null,
      "border": null,
      "bottom": null,
      "display": null,
      "flex": null,
      "flex_flow": null,
      "grid_area": null,
      "grid_auto_columns": null,
      "grid_auto_flow": null,
      "grid_auto_rows": null,
      "grid_column": null,
      "grid_gap": null,
      "grid_row": null,
      "grid_template_areas": null,
      "grid_template_columns": null,
      "grid_template_rows": null,
      "height": null,
      "justify_content": null,
      "justify_items": null,
      "left": null,
      "margin": null,
      "max_height": null,
      "max_width": null,
      "min_height": null,
      "min_width": null,
      "object_fit": null,
      "object_position": null,
      "order": null,
      "overflow": null,
      "overflow_x": null,
      "overflow_y": null,
      "padding": null,
      "right": null,
      "top": null,
      "visibility": null,
      "width": null
     }
    },
    "bf48ad05a10c4d9da482f620f17294d8": {
     "model_module": "@jupyter-widgets/base",
     "model_module_version": "1.2.0",
     "model_name": "LayoutModel",
     "state": {
      "_model_module": "@jupyter-widgets/base",
      "_model_module_version": "1.2.0",
      "_model_name": "LayoutModel",
      "_view_count": null,
      "_view_module": "@jupyter-widgets/base",
      "_view_module_version": "1.2.0",
      "_view_name": "LayoutView",
      "align_content": null,
      "align_items": null,
      "align_self": null,
      "border": null,
      "bottom": null,
      "display": null,
      "flex": null,
      "flex_flow": null,
      "grid_area": null,
      "grid_auto_columns": null,
      "grid_auto_flow": null,
      "grid_auto_rows": null,
      "grid_column": null,
      "grid_gap": null,
      "grid_row": null,
      "grid_template_areas": null,
      "grid_template_columns": null,
      "grid_template_rows": null,
      "height": null,
      "justify_content": null,
      "justify_items": null,
      "left": null,
      "margin": null,
      "max_height": null,
      "max_width": null,
      "min_height": null,
      "min_width": null,
      "object_fit": null,
      "object_position": null,
      "order": null,
      "overflow": null,
      "overflow_x": null,
      "overflow_y": null,
      "padding": null,
      "right": null,
      "top": null,
      "visibility": null,
      "width": null
     }
    },
    "c09764e79f204d5cb49944d554ebf695": {
     "model_module": "@jupyter-widgets/base",
     "model_module_version": "1.2.0",
     "model_name": "LayoutModel",
     "state": {
      "_model_module": "@jupyter-widgets/base",
      "_model_module_version": "1.2.0",
      "_model_name": "LayoutModel",
      "_view_count": null,
      "_view_module": "@jupyter-widgets/base",
      "_view_module_version": "1.2.0",
      "_view_name": "LayoutView",
      "align_content": null,
      "align_items": null,
      "align_self": null,
      "border": null,
      "bottom": null,
      "display": null,
      "flex": null,
      "flex_flow": null,
      "grid_area": null,
      "grid_auto_columns": null,
      "grid_auto_flow": null,
      "grid_auto_rows": null,
      "grid_column": null,
      "grid_gap": null,
      "grid_row": null,
      "grid_template_areas": null,
      "grid_template_columns": null,
      "grid_template_rows": null,
      "height": null,
      "justify_content": null,
      "justify_items": null,
      "left": null,
      "margin": null,
      "max_height": null,
      "max_width": null,
      "min_height": null,
      "min_width": null,
      "object_fit": null,
      "object_position": null,
      "order": null,
      "overflow": null,
      "overflow_x": null,
      "overflow_y": null,
      "padding": null,
      "right": null,
      "top": null,
      "visibility": null,
      "width": null
     }
    },
    "c1fbe867f1d5417f971d8757a70d9fa7": {
     "model_module": "@jupyter-widgets/controls",
     "model_module_version": "1.5.0",
     "model_name": "DescriptionStyleModel",
     "state": {
      "_model_module": "@jupyter-widgets/controls",
      "_model_module_version": "1.5.0",
      "_model_name": "DescriptionStyleModel",
      "_view_count": null,
      "_view_module": "@jupyter-widgets/base",
      "_view_module_version": "1.2.0",
      "_view_name": "StyleView",
      "description_width": ""
     }
    },
    "c96e9b200e0c4999a72700fb2c6d9416": {
     "model_module": "@jupyter-widgets/base",
     "model_module_version": "1.2.0",
     "model_name": "LayoutModel",
     "state": {
      "_model_module": "@jupyter-widgets/base",
      "_model_module_version": "1.2.0",
      "_model_name": "LayoutModel",
      "_view_count": null,
      "_view_module": "@jupyter-widgets/base",
      "_view_module_version": "1.2.0",
      "_view_name": "LayoutView",
      "align_content": null,
      "align_items": null,
      "align_self": null,
      "border": null,
      "bottom": null,
      "display": null,
      "flex": null,
      "flex_flow": null,
      "grid_area": null,
      "grid_auto_columns": null,
      "grid_auto_flow": null,
      "grid_auto_rows": null,
      "grid_column": null,
      "grid_gap": null,
      "grid_row": null,
      "grid_template_areas": null,
      "grid_template_columns": null,
      "grid_template_rows": null,
      "height": null,
      "justify_content": null,
      "justify_items": null,
      "left": null,
      "margin": null,
      "max_height": null,
      "max_width": null,
      "min_height": null,
      "min_width": null,
      "object_fit": null,
      "object_position": null,
      "order": null,
      "overflow": null,
      "overflow_x": null,
      "overflow_y": null,
      "padding": null,
      "right": null,
      "top": null,
      "visibility": null,
      "width": null
     }
    },
    "cf69e10fb57b4e72b01559fece72a41b": {
     "model_module": "@jupyter-widgets/controls",
     "model_module_version": "1.5.0",
     "model_name": "DescriptionStyleModel",
     "state": {
      "_model_module": "@jupyter-widgets/controls",
      "_model_module_version": "1.5.0",
      "_model_name": "DescriptionStyleModel",
      "_view_count": null,
      "_view_module": "@jupyter-widgets/base",
      "_view_module_version": "1.2.0",
      "_view_name": "StyleView",
      "description_width": ""
     }
    },
    "d41480828d6748efba3145332ab7c2aa": {
     "model_module": "@jupyter-widgets/base",
     "model_module_version": "1.2.0",
     "model_name": "LayoutModel",
     "state": {
      "_model_module": "@jupyter-widgets/base",
      "_model_module_version": "1.2.0",
      "_model_name": "LayoutModel",
      "_view_count": null,
      "_view_module": "@jupyter-widgets/base",
      "_view_module_version": "1.2.0",
      "_view_name": "LayoutView",
      "align_content": null,
      "align_items": null,
      "align_self": null,
      "border": null,
      "bottom": null,
      "display": null,
      "flex": null,
      "flex_flow": null,
      "grid_area": null,
      "grid_auto_columns": null,
      "grid_auto_flow": null,
      "grid_auto_rows": null,
      "grid_column": null,
      "grid_gap": null,
      "grid_row": null,
      "grid_template_areas": null,
      "grid_template_columns": null,
      "grid_template_rows": null,
      "height": null,
      "justify_content": null,
      "justify_items": null,
      "left": null,
      "margin": null,
      "max_height": null,
      "max_width": null,
      "min_height": null,
      "min_width": null,
      "object_fit": null,
      "object_position": null,
      "order": null,
      "overflow": null,
      "overflow_x": null,
      "overflow_y": null,
      "padding": null,
      "right": null,
      "top": null,
      "visibility": null,
      "width": null
     }
    },
    "d45d72e4489941d78aa1cc92750f36b1": {
     "model_module": "@jupyter-widgets/base",
     "model_module_version": "1.2.0",
     "model_name": "LayoutModel",
     "state": {
      "_model_module": "@jupyter-widgets/base",
      "_model_module_version": "1.2.0",
      "_model_name": "LayoutModel",
      "_view_count": null,
      "_view_module": "@jupyter-widgets/base",
      "_view_module_version": "1.2.0",
      "_view_name": "LayoutView",
      "align_content": null,
      "align_items": null,
      "align_self": null,
      "border": null,
      "bottom": null,
      "display": null,
      "flex": null,
      "flex_flow": null,
      "grid_area": null,
      "grid_auto_columns": null,
      "grid_auto_flow": null,
      "grid_auto_rows": null,
      "grid_column": null,
      "grid_gap": null,
      "grid_row": null,
      "grid_template_areas": null,
      "grid_template_columns": null,
      "grid_template_rows": null,
      "height": null,
      "justify_content": null,
      "justify_items": null,
      "left": null,
      "margin": null,
      "max_height": null,
      "max_width": null,
      "min_height": null,
      "min_width": null,
      "object_fit": null,
      "object_position": null,
      "order": null,
      "overflow": null,
      "overflow_x": null,
      "overflow_y": null,
      "padding": null,
      "right": null,
      "top": null,
      "visibility": null,
      "width": null
     }
    },
    "dc1b403916b94d74b6bc64cfca533241": {
     "model_module": "@jupyter-widgets/controls",
     "model_module_version": "1.5.0",
     "model_name": "HTMLModel",
     "state": {
      "_dom_classes": [],
      "_model_module": "@jupyter-widgets/controls",
      "_model_module_version": "1.5.0",
      "_model_name": "HTMLModel",
      "_view_count": null,
      "_view_module": "@jupyter-widgets/controls",
      "_view_module_version": "1.5.0",
      "_view_name": "HTMLView",
      "description": "",
      "description_tooltip": null,
      "layout": "IPY_MODEL_2254dee3ba584c6bb0ea5727e939729a",
      "placeholder": "​",
      "style": "IPY_MODEL_cf69e10fb57b4e72b01559fece72a41b",
      "value": "Loss 0.6596868634223938: "
     }
    },
    "e0720ae206474994a56936b221a63e5f": {
     "model_module": "@jupyter-widgets/controls",
     "model_module_version": "1.5.0",
     "model_name": "HTMLModel",
     "state": {
      "_dom_classes": [],
      "_model_module": "@jupyter-widgets/controls",
      "_model_module_version": "1.5.0",
      "_model_name": "HTMLModel",
      "_view_count": null,
      "_view_module": "@jupyter-widgets/controls",
      "_view_module_version": "1.5.0",
      "_view_name": "HTMLView",
      "description": "",
      "description_tooltip": null,
      "layout": "IPY_MODEL_58d201196ed042b2b33d9f2410eb0f8b",
      "placeholder": "​",
      "style": "IPY_MODEL_21b88d88ac7d406292bd39ca72db1154",
      "value": " 20%"
     }
    },
    "e32ecbb812d04c2fb105f89fcbb3d593": {
     "model_module": "@jupyter-widgets/controls",
     "model_module_version": "1.5.0",
     "model_name": "DescriptionStyleModel",
     "state": {
      "_model_module": "@jupyter-widgets/controls",
      "_model_module_version": "1.5.0",
      "_model_name": "DescriptionStyleModel",
      "_view_count": null,
      "_view_module": "@jupyter-widgets/base",
      "_view_module_version": "1.2.0",
      "_view_name": "StyleView",
      "description_width": ""
     }
    },
    "e57902eb8b054a6db641cfe3e1eaad1f": {
     "model_module": "@jupyter-widgets/base",
     "model_module_version": "1.2.0",
     "model_name": "LayoutModel",
     "state": {
      "_model_module": "@jupyter-widgets/base",
      "_model_module_version": "1.2.0",
      "_model_name": "LayoutModel",
      "_view_count": null,
      "_view_module": "@jupyter-widgets/base",
      "_view_module_version": "1.2.0",
      "_view_name": "LayoutView",
      "align_content": null,
      "align_items": null,
      "align_self": null,
      "border": null,
      "bottom": null,
      "display": null,
      "flex": null,
      "flex_flow": null,
      "grid_area": null,
      "grid_auto_columns": null,
      "grid_auto_flow": null,
      "grid_auto_rows": null,
      "grid_column": null,
      "grid_gap": null,
      "grid_row": null,
      "grid_template_areas": null,
      "grid_template_columns": null,
      "grid_template_rows": null,
      "height": null,
      "justify_content": null,
      "justify_items": null,
      "left": null,
      "margin": null,
      "max_height": null,
      "max_width": null,
      "min_height": null,
      "min_width": null,
      "object_fit": null,
      "object_position": null,
      "order": null,
      "overflow": null,
      "overflow_x": null,
      "overflow_y": null,
      "padding": null,
      "right": null,
      "top": null,
      "visibility": null,
      "width": null
     }
    },
    "e606edcf62424d158477e2cf923ab84b": {
     "model_module": "@jupyter-widgets/base",
     "model_module_version": "1.2.0",
     "model_name": "LayoutModel",
     "state": {
      "_model_module": "@jupyter-widgets/base",
      "_model_module_version": "1.2.0",
      "_model_name": "LayoutModel",
      "_view_count": null,
      "_view_module": "@jupyter-widgets/base",
      "_view_module_version": "1.2.0",
      "_view_name": "LayoutView",
      "align_content": null,
      "align_items": null,
      "align_self": null,
      "border": null,
      "bottom": null,
      "display": null,
      "flex": null,
      "flex_flow": null,
      "grid_area": null,
      "grid_auto_columns": null,
      "grid_auto_flow": null,
      "grid_auto_rows": null,
      "grid_column": null,
      "grid_gap": null,
      "grid_row": null,
      "grid_template_areas": null,
      "grid_template_columns": null,
      "grid_template_rows": null,
      "height": null,
      "justify_content": null,
      "justify_items": null,
      "left": null,
      "margin": null,
      "max_height": null,
      "max_width": null,
      "min_height": null,
      "min_width": null,
      "object_fit": null,
      "object_position": null,
      "order": null,
      "overflow": null,
      "overflow_x": null,
      "overflow_y": null,
      "padding": null,
      "right": null,
      "top": null,
      "visibility": null,
      "width": null
     }
    },
    "f221a42102174260aab4ad3dd736cff1": {
     "model_module": "@jupyter-widgets/controls",
     "model_module_version": "1.5.0",
     "model_name": "FloatProgressModel",
     "state": {
      "_dom_classes": [],
      "_model_module": "@jupyter-widgets/controls",
      "_model_module_version": "1.5.0",
      "_model_name": "FloatProgressModel",
      "_view_count": null,
      "_view_module": "@jupyter-widgets/controls",
      "_view_module_version": "1.5.0",
      "_view_name": "ProgressView",
      "bar_style": "danger",
      "description": "",
      "description_tooltip": null,
      "layout": "IPY_MODEL_3e844c9aad59485db1961adc586ed015",
      "max": 1,
      "min": 0,
      "orientation": "horizontal",
      "style": "IPY_MODEL_7bdab1fe6ba448ea90089a14870348f7",
      "value": 1
     }
    },
    "f45b24f6925f4846bf464c9ce18fd64d": {
     "model_module": "@jupyter-widgets/controls",
     "model_module_version": "1.5.0",
     "model_name": "HBoxModel",
     "state": {
      "_dom_classes": [],
      "_model_module": "@jupyter-widgets/controls",
      "_model_module_version": "1.5.0",
      "_model_name": "HBoxModel",
      "_view_count": null,
      "_view_module": "@jupyter-widgets/controls",
      "_view_module_version": "1.5.0",
      "_view_name": "HBoxView",
      "box_style": "",
      "children": [
       "IPY_MODEL_2a8e42e8025f41d6951a12e7e8b5ad74",
       "IPY_MODEL_f221a42102174260aab4ad3dd736cff1",
       "IPY_MODEL_09510631f1f741949e3b83c9b3ed604d"
      ],
      "layout": "IPY_MODEL_e57902eb8b054a6db641cfe3e1eaad1f"
     }
    },
    "f6d124ad99c24f12a791683752a4f20e": {
     "model_module": "@jupyter-widgets/base",
     "model_module_version": "1.2.0",
     "model_name": "LayoutModel",
     "state": {
      "_model_module": "@jupyter-widgets/base",
      "_model_module_version": "1.2.0",
      "_model_name": "LayoutModel",
      "_view_count": null,
      "_view_module": "@jupyter-widgets/base",
      "_view_module_version": "1.2.0",
      "_view_name": "LayoutView",
      "align_content": null,
      "align_items": null,
      "align_self": null,
      "border": null,
      "bottom": null,
      "display": null,
      "flex": null,
      "flex_flow": null,
      "grid_area": null,
      "grid_auto_columns": null,
      "grid_auto_flow": null,
      "grid_auto_rows": null,
      "grid_column": null,
      "grid_gap": null,
      "grid_row": null,
      "grid_template_areas": null,
      "grid_template_columns": null,
      "grid_template_rows": null,
      "height": null,
      "justify_content": null,
      "justify_items": null,
      "left": null,
      "margin": null,
      "max_height": null,
      "max_width": null,
      "min_height": null,
      "min_width": null,
      "object_fit": null,
      "object_position": null,
      "order": null,
      "overflow": null,
      "overflow_x": null,
      "overflow_y": null,
      "padding": null,
      "right": null,
      "top": null,
      "visibility": null,
      "width": null
     }
    },
    "fcd67485b1b045cb8e468e460cb4cda0": {
     "model_module": "@jupyter-widgets/controls",
     "model_module_version": "1.5.0",
     "model_name": "HTMLModel",
     "state": {
      "_dom_classes": [],
      "_model_module": "@jupyter-widgets/controls",
      "_model_module_version": "1.5.0",
      "_model_name": "HTMLModel",
      "_view_count": null,
      "_view_module": "@jupyter-widgets/controls",
      "_view_module_version": "1.5.0",
      "_view_name": "HTMLView",
      "description": "",
      "description_tooltip": null,
      "layout": "IPY_MODEL_c96e9b200e0c4999a72700fb2c6d9416",
      "placeholder": "​",
      "style": "IPY_MODEL_c1fbe867f1d5417f971d8757a70d9fa7",
      "value": "Loss 1.4555610418319702: "
     }
    }
   }
  }
 },
 "nbformat": 4,
 "nbformat_minor": 4
}
